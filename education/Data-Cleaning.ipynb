{
 "metadata": {
  "language_info": {
   "codemirror_mode": {
    "name": "ipython",
    "version": 3
   },
   "file_extension": ".py",
   "mimetype": "text/x-python",
   "name": "python",
   "nbconvert_exporter": "python",
   "pygments_lexer": "ipython3",
   "version": "3.9.2"
  },
  "orig_nbformat": 2,
  "kernelspec": {
   "name": "python392jvsc74a57bd0c0f7f1796be8cfcd558c8afe3c9c767ffb7fcd3a2a2c6cc5ff7439286e873c55",
   "display_name": "Python 3.9.2 64-bit ('cleaning': conda)"
  }
 },
 "nbformat": 4,
 "nbformat_minor": 2,
 "cells": [
  {
   "source": [
    "# Data Cleaning and Analysis\n",
    "#### Data regarding education from data.worldbank.org"
   ],
   "cell_type": "markdown",
   "metadata": {}
  },
  {
   "source": [
    "## Imports"
   ],
   "cell_type": "markdown",
   "metadata": {}
  },
  {
   "cell_type": "code",
   "execution_count": 1,
   "metadata": {},
   "outputs": [],
   "source": [
    "# Basic imports\n",
    "\n",
    "import numpy as np \n",
    "import pandas as pd \n",
    "import matplotlib.pyplot as plt \n",
    "import seaborn as sns \n",
    "sns.set()\n",
    "\n",
    "%matplotlib inline"
   ]
  },
  {
   "cell_type": "code",
   "execution_count": 2,
   "metadata": {},
   "outputs": [],
   "source": [
    "# Additional imports\n",
    "import os\n",
    "import education.utils as u"
   ]
  },
  {
   "source": [
    "## Files with data"
   ],
   "cell_type": "markdown",
   "metadata": {}
  },
  {
   "cell_type": "code",
   "execution_count": 3,
   "metadata": {},
   "outputs": [],
   "source": [
    "# Paths to data\n",
    "raw_data = '../data/raw'\n",
    "processed_data = '../data/processed'\n",
    "clean_data = '../data/clean'"
   ]
  },
  {
   "cell_type": "code",
   "execution_count": 4,
   "metadata": {},
   "outputs": [
    {
     "output_type": "execute_result",
     "data": {
      "text/plain": [
       "['countries_info.csv',\n",
       " 'data_explain.csv',\n",
       " 'data_sources.csv',\n",
       " 'data_year.csv',\n",
       " 'ed_data.csv',\n",
       " 'life_expectancy.csv',\n",
       " 'POP.csv']"
      ]
     },
     "metadata": {},
     "execution_count": 4
    }
   ],
   "source": [
    "# Show all files \n",
    "os.listdir(processed_data)"
   ]
  },
  {
   "cell_type": "code",
   "execution_count": 5,
   "metadata": {},
   "outputs": [],
   "source": [
    "# File paths\n",
    "ed_data = 'ed_data.csv'\n",
    "countries = 'countries_info.csv'\n",
    "data_info = 'data_explain.csv'\n",
    "data_pop = 'POP.csv'\n",
    "data_le = 'life_expectancy.csv'"
   ]
  },
  {
   "source": [
    "## Data Exploration"
   ],
   "cell_type": "markdown",
   "metadata": {}
  },
  {
   "cell_type": "code",
   "execution_count": 6,
   "metadata": {},
   "outputs": [],
   "source": [
    "ed_df = pd.read_csv(os.path.join(processed_data, ed_data))"
   ]
  },
  {
   "cell_type": "code",
   "execution_count": 7,
   "metadata": {},
   "outputs": [
    {
     "output_type": "execute_result",
     "data": {
      "text/plain": [
       "  Country Name Country Code  \\\n",
       "0   Arab World          ARB   \n",
       "1   Arab World          ARB   \n",
       "2   Arab World          ARB   \n",
       "3   Arab World          ARB   \n",
       "4   Arab World          ARB   \n",
       "\n",
       "                                      Indicator Name  Indicator Code  \\\n",
       "0  Adjusted net enrolment rate, lower secondary, ...      UIS.NERA.2   \n",
       "1  Adjusted net enrolment rate, lower secondary, ...    UIS.NERA.2.F   \n",
       "2  Adjusted net enrolment rate, lower secondary, ...  UIS.NERA.2.GPI   \n",
       "3  Adjusted net enrolment rate, lower secondary, ...    UIS.NERA.2.M   \n",
       "4  Adjusted net enrolment rate, primary, both sex...     SE.PRM.TENR   \n",
       "\n",
       "        1970       1971       1972       1973       1974      1975  ...  2055  \\\n",
       "0        NaN        NaN        NaN        NaN        NaN       NaN  ...   NaN   \n",
       "1        NaN        NaN        NaN        NaN        NaN       NaN  ...   NaN   \n",
       "2        NaN        NaN        NaN        NaN        NaN       NaN  ...   NaN   \n",
       "3        NaN        NaN        NaN        NaN        NaN       NaN  ...   NaN   \n",
       "4  54.822121  54.894138  56.209438  57.267109  57.991138  59.36554  ...   NaN   \n",
       "\n",
       "   2060  2065  2070  2075  2080  2085  2090  2095  2100  \n",
       "0   NaN   NaN   NaN   NaN   NaN   NaN   NaN   NaN   NaN  \n",
       "1   NaN   NaN   NaN   NaN   NaN   NaN   NaN   NaN   NaN  \n",
       "2   NaN   NaN   NaN   NaN   NaN   NaN   NaN   NaN   NaN  \n",
       "3   NaN   NaN   NaN   NaN   NaN   NaN   NaN   NaN   NaN  \n",
       "4   NaN   NaN   NaN   NaN   NaN   NaN   NaN   NaN   NaN  \n",
       "\n",
       "[5 rows x 69 columns]"
      ],
      "text/html": "<div>\n<style scoped>\n    .dataframe tbody tr th:only-of-type {\n        vertical-align: middle;\n    }\n\n    .dataframe tbody tr th {\n        vertical-align: top;\n    }\n\n    .dataframe thead th {\n        text-align: right;\n    }\n</style>\n<table border=\"1\" class=\"dataframe\">\n  <thead>\n    <tr style=\"text-align: right;\">\n      <th></th>\n      <th>Country Name</th>\n      <th>Country Code</th>\n      <th>Indicator Name</th>\n      <th>Indicator Code</th>\n      <th>1970</th>\n      <th>1971</th>\n      <th>1972</th>\n      <th>1973</th>\n      <th>1974</th>\n      <th>1975</th>\n      <th>...</th>\n      <th>2055</th>\n      <th>2060</th>\n      <th>2065</th>\n      <th>2070</th>\n      <th>2075</th>\n      <th>2080</th>\n      <th>2085</th>\n      <th>2090</th>\n      <th>2095</th>\n      <th>2100</th>\n    </tr>\n  </thead>\n  <tbody>\n    <tr>\n      <th>0</th>\n      <td>Arab World</td>\n      <td>ARB</td>\n      <td>Adjusted net enrolment rate, lower secondary, ...</td>\n      <td>UIS.NERA.2</td>\n      <td>NaN</td>\n      <td>NaN</td>\n      <td>NaN</td>\n      <td>NaN</td>\n      <td>NaN</td>\n      <td>NaN</td>\n      <td>...</td>\n      <td>NaN</td>\n      <td>NaN</td>\n      <td>NaN</td>\n      <td>NaN</td>\n      <td>NaN</td>\n      <td>NaN</td>\n      <td>NaN</td>\n      <td>NaN</td>\n      <td>NaN</td>\n      <td>NaN</td>\n    </tr>\n    <tr>\n      <th>1</th>\n      <td>Arab World</td>\n      <td>ARB</td>\n      <td>Adjusted net enrolment rate, lower secondary, ...</td>\n      <td>UIS.NERA.2.F</td>\n      <td>NaN</td>\n      <td>NaN</td>\n      <td>NaN</td>\n      <td>NaN</td>\n      <td>NaN</td>\n      <td>NaN</td>\n      <td>...</td>\n      <td>NaN</td>\n      <td>NaN</td>\n      <td>NaN</td>\n      <td>NaN</td>\n      <td>NaN</td>\n      <td>NaN</td>\n      <td>NaN</td>\n      <td>NaN</td>\n      <td>NaN</td>\n      <td>NaN</td>\n    </tr>\n    <tr>\n      <th>2</th>\n      <td>Arab World</td>\n      <td>ARB</td>\n      <td>Adjusted net enrolment rate, lower secondary, ...</td>\n      <td>UIS.NERA.2.GPI</td>\n      <td>NaN</td>\n      <td>NaN</td>\n      <td>NaN</td>\n      <td>NaN</td>\n      <td>NaN</td>\n      <td>NaN</td>\n      <td>...</td>\n      <td>NaN</td>\n      <td>NaN</td>\n      <td>NaN</td>\n      <td>NaN</td>\n      <td>NaN</td>\n      <td>NaN</td>\n      <td>NaN</td>\n      <td>NaN</td>\n      <td>NaN</td>\n      <td>NaN</td>\n    </tr>\n    <tr>\n      <th>3</th>\n      <td>Arab World</td>\n      <td>ARB</td>\n      <td>Adjusted net enrolment rate, lower secondary, ...</td>\n      <td>UIS.NERA.2.M</td>\n      <td>NaN</td>\n      <td>NaN</td>\n      <td>NaN</td>\n      <td>NaN</td>\n      <td>NaN</td>\n      <td>NaN</td>\n      <td>...</td>\n      <td>NaN</td>\n      <td>NaN</td>\n      <td>NaN</td>\n      <td>NaN</td>\n      <td>NaN</td>\n      <td>NaN</td>\n      <td>NaN</td>\n      <td>NaN</td>\n      <td>NaN</td>\n      <td>NaN</td>\n    </tr>\n    <tr>\n      <th>4</th>\n      <td>Arab World</td>\n      <td>ARB</td>\n      <td>Adjusted net enrolment rate, primary, both sex...</td>\n      <td>SE.PRM.TENR</td>\n      <td>54.822121</td>\n      <td>54.894138</td>\n      <td>56.209438</td>\n      <td>57.267109</td>\n      <td>57.991138</td>\n      <td>59.36554</td>\n      <td>...</td>\n      <td>NaN</td>\n      <td>NaN</td>\n      <td>NaN</td>\n      <td>NaN</td>\n      <td>NaN</td>\n      <td>NaN</td>\n      <td>NaN</td>\n      <td>NaN</td>\n      <td>NaN</td>\n      <td>NaN</td>\n    </tr>\n  </tbody>\n</table>\n<p>5 rows × 69 columns</p>\n</div>"
     },
     "metadata": {},
     "execution_count": 7
    }
   ],
   "source": [
    "ed_df.head()"
   ]
  },
  {
   "cell_type": "code",
   "execution_count": 8,
   "metadata": {},
   "outputs": [],
   "source": [
    "indicators = list(ed_df['Indicator Name'].unique())"
   ]
  },
  {
   "cell_type": "code",
   "execution_count": 9,
   "metadata": {},
   "outputs": [
    {
     "output_type": "stream",
     "name": "stdout",
     "text": [
      "Barro-Lee: Average years of primary schooling, age 15+, female\nBarro-Lee: Average years of primary schooling, age 15+, total\nBarro-Lee: Average years of primary schooling, age 15-19, female\nBarro-Lee: Average years of primary schooling, age 15-19, total\nBarro-Lee: Average years of primary schooling, age 20-24, female\nBarro-Lee: Average years of primary schooling, age 20-24, total\nBarro-Lee: Average years of primary schooling, age 25+, female\nBarro-Lee: Average years of primary schooling, age 25+, total\nBarro-Lee: Average years of primary schooling, age 25-29, female\nBarro-Lee: Average years of primary schooling, age 25-29, total\nBarro-Lee: Average years of primary schooling, age 30-34, female\nBarro-Lee: Average years of primary schooling, age 30-34, total\nBarro-Lee: Average years of primary schooling, age 35-39, female\nBarro-Lee: Average years of primary schooling, age 35-39, total\nBarro-Lee: Average years of primary schooling, age 40-44, female\nBarro-Lee: Average years of primary schooling, age 40-44, total\nBarro-Lee: Average years of primary schooling, age 45-49, female\nBarro-Lee: Average years of primary schooling, age 45-49, total\nBarro-Lee: Average years of primary schooling, age 50-54, female\nBarro-Lee: Average years of primary schooling, age 50-54, total\nBarro-Lee: Average years of primary schooling, age 55-59, female\nBarro-Lee: Average years of primary schooling, age 55-59, total\nBarro-Lee: Average years of primary schooling, age 60-64, female\nBarro-Lee: Average years of primary schooling, age 60-64, total\nBarro-Lee: Average years of primary schooling, age 65-69, female\nBarro-Lee: Average years of primary schooling, age 65-69, total\nBarro-Lee: Average years of primary schooling, age 70-74, female\nBarro-Lee: Average years of primary schooling, age 70-74, total\nBarro-Lee: Average years of primary schooling, age 75+, female\nBarro-Lee: Average years of primary schooling, age 75+, total\nBarro-Lee: Average years of secondary schooling, age 15+, female\nBarro-Lee: Average years of secondary schooling, age 15+, total\nBarro-Lee: Average years of secondary schooling, age 15-19, female\nBarro-Lee: Average years of secondary schooling, age 15-19, total\nBarro-Lee: Average years of secondary schooling, age 20-24, female\nBarro-Lee: Average years of secondary schooling, age 20-24, total\nBarro-Lee: Average years of secondary schooling, age 25+, female\nBarro-Lee: Average years of secondary schooling, age 25+, total\nBarro-Lee: Average years of secondary schooling, age 25-29, female\nBarro-Lee: Average years of secondary schooling, age 25-29, total\nBarro-Lee: Average years of secondary schooling, age 30-34, female\nBarro-Lee: Average years of secondary schooling, age 30-34, total\nBarro-Lee: Average years of secondary schooling, age 35-39, female\nBarro-Lee: Average years of secondary schooling, age 35-39, total\nBarro-Lee: Average years of secondary schooling, age 40-44, female\nBarro-Lee: Average years of secondary schooling, age 40-44, total\nBarro-Lee: Average years of secondary schooling, age 45-49, female\nBarro-Lee: Average years of secondary schooling, age 45-49, total\nBarro-Lee: Average years of secondary schooling, age 50-54, female\nBarro-Lee: Average years of secondary schooling, age 50-54, total\nBarro-Lee: Average years of secondary schooling, age 55-59, female\nBarro-Lee: Average years of secondary schooling, age 55-59, total\nBarro-Lee: Average years of secondary schooling, age 60-64, female\nBarro-Lee: Average years of secondary schooling, age 60-64, total\nBarro-Lee: Average years of secondary schooling, age 65-69, female\nBarro-Lee: Average years of secondary schooling, age 65-69, total\nBarro-Lee: Average years of secondary schooling, age 70-74, female\nBarro-Lee: Average years of secondary schooling, age 70-74, total\nBarro-Lee: Average years of secondary schooling, age 75+, female\nBarro-Lee: Average years of secondary schooling, age 75+, total\nBarro-Lee: Average years of tertiary schooling, age 15+, female\nBarro-Lee: Average years of tertiary schooling, age 15+, total\nBarro-Lee: Average years of tertiary schooling, age 15-19, female\nBarro-Lee: Average years of tertiary schooling, age 15-19, total\nBarro-Lee: Average years of tertiary schooling, age 20-24, female\nBarro-Lee: Average years of tertiary schooling, age 20-24, total\nBarro-Lee: Average years of tertiary schooling, age 25+, female\nBarro-Lee: Average years of tertiary schooling, age 25+, total\nBarro-Lee: Average years of tertiary schooling, age 25-29, female\nBarro-Lee: Average years of tertiary schooling, age 25-29, total\nBarro-Lee: Average years of tertiary schooling, age 30-34, female\nBarro-Lee: Average years of tertiary schooling, age 30-34, total\nBarro-Lee: Average years of tertiary schooling, age 35-39, female\nBarro-Lee: Average years of tertiary schooling, age 35-39, total\nBarro-Lee: Average years of tertiary schooling, age 40-44, female\nBarro-Lee: Average years of tertiary schooling, age 40-44, total\nBarro-Lee: Average years of tertiary schooling, age 45-49, female\nBarro-Lee: Average years of tertiary schooling, age 45-49, total\nBarro-Lee: Average years of tertiary schooling, age 50-54, female\nBarro-Lee: Average years of tertiary schooling, age 50-54, total\nBarro-Lee: Average years of tertiary schooling, age 55-59, female\nBarro-Lee: Average years of tertiary schooling, age 55-59, total\nBarro-Lee: Average years of tertiary schooling, age 60-64, female\nBarro-Lee: Average years of tertiary schooling, age 60-64, total\nBarro-Lee: Average years of tertiary schooling, age 65-69, female\nBarro-Lee: Average years of tertiary schooling, age 65-69, total\nBarro-Lee: Average years of tertiary schooling, age 70-74, female\nBarro-Lee: Average years of tertiary schooling, age 70-74, total\nBarro-Lee: Average years of tertiary schooling, age 75+, female\nBarro-Lee: Average years of tertiary schooling, age 75+, total\nBarro-Lee: Average years of total schooling, age 15+, female\nBarro-Lee: Average years of total schooling, age 15+, total\nBarro-Lee: Average years of total schooling, age 15-19, female\nBarro-Lee: Average years of total schooling, age 15-19, total\nBarro-Lee: Average years of total schooling, age 20-24, female\nBarro-Lee: Average years of total schooling, age 20-24, total\nBarro-Lee: Average years of total schooling, age 25+, female\nBarro-Lee: Average years of total schooling, age 25+, total\nBarro-Lee: Average years of total schooling, age 25-29, female\nBarro-Lee: Average years of total schooling, age 25-29, total\nBarro-Lee: Average years of total schooling, age 30-34, female\nBarro-Lee: Average years of total schooling, age 30-34, total\nBarro-Lee: Average years of total schooling, age 35-39, female\nBarro-Lee: Average years of total schooling, age 35-39, total\nBarro-Lee: Average years of total schooling, age 40-44, female\nBarro-Lee: Average years of total schooling, age 40-44, total\nBarro-Lee: Average years of total schooling, age 45-49, female\nBarro-Lee: Average years of total schooling, age 45-49, total\nBarro-Lee: Average years of total schooling, age 50-54, female\nBarro-Lee: Average years of total schooling, age 50-54, total\nBarro-Lee: Average years of total schooling, age 55-59, female\nBarro-Lee: Average years of total schooling, age 55-59, total\nBarro-Lee: Average years of total schooling, age 60-64, female\nBarro-Lee: Average years of total schooling, age 60-64, total\nBarro-Lee: Average years of total schooling, age 65-69, female\nBarro-Lee: Average years of total schooling, age 65-69, total\nBarro-Lee: Average years of total schooling, age 70-74, female\nBarro-Lee: Average years of total schooling, age 70-74, total\nBarro-Lee: Average years of total schooling, age 75+, female\nBarro-Lee: Average years of total schooling, age 75+, total\nBarro-Lee: Percentage of female population age 15+ with no education\nBarro-Lee: Percentage of female population age 15+ with primary schooling. Completed Primary\nBarro-Lee: Percentage of female population age 15+ with primary schooling. Total (Incomplete and Completed Primary)\nBarro-Lee: Percentage of female population age 15+ with secondary schooling. Completed Secondary\nBarro-Lee: Percentage of female population age 15+ with secondary schooling. Total (Incomplete and Completed Secondary)\nBarro-Lee: Percentage of female population age 15+ with tertiary schooling. Completed Tertiary\nBarro-Lee: Percentage of female population age 15+ with tertiary schooling. Total (Incomplete and Completed Tertiary)\nBarro-Lee: Percentage of female population age 15-19 with no education\nBarro-Lee: Percentage of female population age 15-19 with primary schooling. Completed Primary\nBarro-Lee: Percentage of female population age 15-19 with primary schooling. Total (Incomplete and Completed Primary)\nBarro-Lee: Percentage of female population age 15-19 with secondary schooling. Completed Secondary\nBarro-Lee: Percentage of female population age 15-19 with secondary schooling. Total (Incomplete and Completed Secondary)\nBarro-Lee: Percentage of female population age 15-19 with tertiary schooling. Completed Tertiary\nBarro-Lee: Percentage of female population age 15-19 with tertiary schooling. Total (Incomplete and Completed Tertiary)\nBarro-Lee: Percentage of female population age 20-24 with no education\nBarro-Lee: Percentage of female population age 20-24 with primary schooling. Completed Primary\nBarro-Lee: Percentage of female population age 20-24 with primary schooling. Total (Incomplete and Completed Primary)\nBarro-Lee: Percentage of female population age 20-24 with secondary schooling. Completed Secondary\nBarro-Lee: Percentage of female population age 20-24 with secondary schooling. Total (Incomplete and Completed Secondary)\nBarro-Lee: Percentage of female population age 20-24 with tertiary schooling. Completed Tertiary\nBarro-Lee: Percentage of female population age 20-24 with tertiary schooling. Total (Incomplete and Completed Tertiary)\nBarro-Lee: Percentage of female population age 25+ with no education\nBarro-Lee: Percentage of female population age 25+ with primary schooling. Completed Primary\nBarro-Lee: Percentage of female population age 25+ with primary schooling. Total (Incomplete and Completed Primary)\nBarro-Lee: Percentage of female population age 25+ with secondary schooling. Completed Secondary\nBarro-Lee: Percentage of female population age 25+ with secondary schooling. Total (Incomplete and Completed Secondary)\nBarro-Lee: Percentage of female population age 25+ with tertiary schooling. Completed Tertiary\nBarro-Lee: Percentage of female population age 25+ with tertiary schooling. Total (Incomplete and Completed Tertiary)\nBarro-Lee: Percentage of female population age 25-29 with no education\nBarro-Lee: Percentage of female population age 25-29 with primary schooling. Completed Primary\nBarro-Lee: Percentage of female population age 25-29 with primary schooling. Total (Incomplete and Completed Primary)\nBarro-Lee: Percentage of female population age 25-29 with secondary schooling. Completed Secondary\nBarro-Lee: Percentage of female population age 25-29 with secondary schooling. Total (Incomplete and Completed Secondary)\nBarro-Lee: Percentage of female population age 25-29 with tertiary schooling. Completed Tertiary\nBarro-Lee: Percentage of female population age 25-29 with tertiary schooling. Total (Incomplete and Completed Tertiary)\nBarro-Lee: Percentage of female population age 30-34 with no education\nBarro-Lee: Percentage of female population age 30-34 with primary schooling. Completed Primary\nBarro-Lee: Percentage of female population age 30-34 with primary schooling. Total (Incomplete and Completed Primary)\nBarro-Lee: Percentage of female population age 30-34 with secondary schooling. Completed Secondary\nBarro-Lee: Percentage of female population age 30-34 with secondary schooling. Total (Incomplete and Completed Secondary)\nBarro-Lee: Percentage of female population age 30-34 with tertiary schooling. Completed Tertiary\nBarro-Lee: Percentage of female population age 30-34 with tertiary schooling. Total (Incomplete and Completed Tertiary)\nBarro-Lee: Percentage of female population age 35-39 with no education\nBarro-Lee: Percentage of female population age 35-39 with primary schooling. Completed Primary\nBarro-Lee: Percentage of female population age 35-39 with primary schooling. Total (Incomplete and Completed Primary)\nBarro-Lee: Percentage of female population age 35-39 with secondary schooling. Completed Secondary\nBarro-Lee: Percentage of female population age 35-39 with secondary schooling. Total (Incomplete and Completed Secondary)\nBarro-Lee: Percentage of female population age 35-39 with tertiary schooling. Completed Tertiary\nBarro-Lee: Percentage of female population age 35-39 with tertiary schooling. Total (Incomplete and Completed Tertiary)\nBarro-Lee: Percentage of female population age 40-44 with no education\nBarro-Lee: Percentage of female population age 40-44 with primary schooling. Completed Primary\nBarro-Lee: Percentage of female population age 40-44 with primary schooling. Total (Incomplete and Completed Primary)\nBarro-Lee: Percentage of female population age 40-44 with secondary schooling. Completed Secondary\nBarro-Lee: Percentage of female population age 40-44 with secondary schooling. Total (Incomplete and Completed Secondary)\nBarro-Lee: Percentage of female population age 40-44 with tertiary schooling. Completed Tertiary\nBarro-Lee: Percentage of female population age 40-44 with tertiary schooling. Total (Incomplete and Completed Tertiary)\nBarro-Lee: Percentage of female population age 45-49 with no education\nBarro-Lee: Percentage of female population age 45-49 with primary schooling. Completed Primary\nBarro-Lee: Percentage of female population age 45-49 with primary schooling. Total (Incomplete and Completed Primary)\nBarro-Lee: Percentage of female population age 45-49 with secondary schooling. Completed Secondary\nBarro-Lee: Percentage of female population age 45-49 with secondary schooling. Total (Incomplete and Completed Secondary)\nBarro-Lee: Percentage of female population age 45-49 with tertiary schooling. Completed Tertiary\nBarro-Lee: Percentage of female population age 45-49 with tertiary schooling. Total (Incomplete and Completed Tertiary)\nBarro-Lee: Percentage of female population age 50-54 with no education\nBarro-Lee: Percentage of female population age 50-54 with primary schooling. Completed Primary\nBarro-Lee: Percentage of female population age 50-54 with primary schooling. Total (Incomplete and Completed Primary)\nBarro-Lee: Percentage of female population age 50-54 with secondary schooling. Completed Secondary\nBarro-Lee: Percentage of female population age 50-54 with secondary schooling. Total (Incomplete and Completed Secondary)\nBarro-Lee: Percentage of female population age 50-54 with tertiary schooling. Completed Tertiary\nBarro-Lee: Percentage of female population age 50-54 with tertiary schooling. Total (Incomplete and Completed Tertiary)\nBarro-Lee: Percentage of female population age 55-59 with no education\nBarro-Lee: Percentage of female population age 55-59 with primary schooling. Completed Primary\nBarro-Lee: Percentage of female population age 55-59 with primary schooling. Total (Incomplete and Completed Primary)\nBarro-Lee: Percentage of female population age 55-59 with secondary schooling. Completed Secondary\nBarro-Lee: Percentage of female population age 55-59 with secondary schooling. Total (Incomplete and Completed Secondary)\nBarro-Lee: Percentage of female population age 55-59 with tertiary schooling. Completed Tertiary\nBarro-Lee: Percentage of female population age 55-59 with tertiary schooling. Total (Incomplete and Completed Tertiary)\nBarro-Lee: Percentage of female population age 60-64 with no education\nBarro-Lee: Percentage of female population age 60-64 with primary schooling. Completed Primary\nBarro-Lee: Percentage of female population age 60-64 with primary schooling. Total (Incomplete and Completed Primary)\nBarro-Lee: Percentage of female population age 60-64 with secondary schooling. Completed Secondary\nBarro-Lee: Percentage of female population age 60-64 with secondary schooling. Total (Incomplete and Completed Secondary)\nBarro-Lee: Percentage of female population age 60-64 with tertiary schooling. Completed Tertiary\nBarro-Lee: Percentage of female population age 60-64 with tertiary schooling. Total (Incomplete and Completed Tertiary)\nBarro-Lee: Percentage of female population age 65-69 with no education\nBarro-Lee: Percentage of female population age 65-69 with primary schooling. Completed Primary\nBarro-Lee: Percentage of female population age 65-69 with primary schooling. Total (Incomplete and Completed Primary)\nBarro-Lee: Percentage of female population age 65-69 with secondary schooling. Completed Secondary\nBarro-Lee: Percentage of female population age 65-69 with secondary schooling. Total (Incomplete and Completed Secondary)\nBarro-Lee: Percentage of female population age 65-69 with tertiary schooling. Completed Tertiary\nBarro-Lee: Percentage of female population age 65-69 with tertiary schooling. Total (Incomplete and Completed Tertiary)\nBarro-Lee: Percentage of female population age 70-74 with no education\nBarro-Lee: Percentage of female population age 70-74 with primary schooling. Completed Primary\nBarro-Lee: Percentage of female population age 70-74 with primary schooling. Total (Incomplete and Completed Primary)\nBarro-Lee: Percentage of female population age 70-74 with secondary schooling. Completed Secondary\nBarro-Lee: Percentage of female population age 70-74 with secondary schooling. Total (Incomplete and Completed Secondary)\nBarro-Lee: Percentage of female population age 70-74 with tertiary schooling. Completed Tertiary\nBarro-Lee: Percentage of female population age 70-74 with tertiary schooling. Total (Incomplete and Completed Tertiary)\nBarro-Lee: Percentage of female population age 75+ with no education\nBarro-Lee: Percentage of female population age 75+ with primary schooling. Completed Primary\nBarro-Lee: Percentage of female population age 75+ with primary schooling. Total (Incomplete and Completed Primary)\nBarro-Lee: Percentage of female population age 75+ with secondary schooling. Completed Secondary\nBarro-Lee: Percentage of female population age 75+ with secondary schooling. Total (Incomplete and Completed Secondary)\nBarro-Lee: Percentage of female population age 75+ with tertiary schooling. Completed Tertiary\nBarro-Lee: Percentage of female population age 75+ with tertiary schooling. Total (Incomplete and Completed Tertiary)\nBarro-Lee: Percentage of population age 15+ with no education\nBarro-Lee: Percentage of population age 15+ with primary schooling. Completed Primary\nBarro-Lee: Percentage of population age 15+ with primary schooling. Total (Incomplete and Completed Primary)\nBarro-Lee: Percentage of population age 15+ with secondary schooling. Completed Secondary\nBarro-Lee: Percentage of population age 15+ with secondary schooling. Total (Incomplete and Completed Secondary)\nBarro-Lee: Percentage of population age 15+ with tertiary schooling. Completed Tertiary\nBarro-Lee: Percentage of population age 15+ with tertiary schooling. Total (Incomplete and Completed Tertiary)\nBarro-Lee: Percentage of population age 15-19 with no education\nBarro-Lee: Percentage of population age 15-19 with primary schooling. Completed Primary\nBarro-Lee: Percentage of population age 15-19 with primary schooling. Total (Incomplete and Completed Primary)\nBarro-Lee: Percentage of population age 15-19 with secondary schooling. Completed Secondary\nBarro-Lee: Percentage of population age 15-19 with secondary schooling. Total (Incomplete and Completed Secondary)\nBarro-Lee: Percentage of population age 15-19 with tertiary schooling. Completed Tertiary\nBarro-Lee: Percentage of population age 15-19 with tertiary schooling. Total (Incomplete and Completed Tertiary)\nBarro-Lee: Percentage of population age 20-24 with no education\nBarro-Lee: Percentage of population age 20-24 with primary schooling. Completed Primary\nBarro-Lee: Percentage of population age 20-24 with primary schooling. Total (Incomplete and Completed Primary)\nBarro-Lee: Percentage of population age 20-24 with secondary schooling. Completed Secondary\nBarro-Lee: Percentage of population age 20-24 with secondary schooling. Total (Incomplete and Completed Secondary)\nBarro-Lee: Percentage of population age 20-24 with tertiary schooling. Completed Tertiary\nBarro-Lee: Percentage of population age 20-24 with tertiary schooling. Total (Incomplete and Completed Tertiary)\nBarro-Lee: Percentage of population age 25+ with no education\nBarro-Lee: Percentage of population age 25+ with primary schooling. Completed Primary\nBarro-Lee: Percentage of population age 25+ with primary schooling. Total (Incomplete and Completed Primary)\nBarro-Lee: Percentage of population age 25+ with secondary schooling. Completed Secondary\nBarro-Lee: Percentage of population age 25+ with secondary schooling. Total (Incomplete and Completed Secondary)\nBarro-Lee: Percentage of population age 25+ with tertiary schooling. Completed Tertiary\nBarro-Lee: Percentage of population age 25+ with tertiary schooling. Total (Incomplete and Completed Tertiary)\nBarro-Lee: Percentage of population age 25-29 with no education\nBarro-Lee: Percentage of population age 25-29 with primary schooling. Completed Primary\nBarro-Lee: Percentage of population age 25-29 with primary schooling. Total (Incomplete and Completed Primary)\nBarro-Lee: Percentage of population age 25-29 with secondary schooling. Completed Secondary\nBarro-Lee: Percentage of population age 25-29 with secondary schooling. Total (Incomplete and Completed Secondary)\nBarro-Lee: Percentage of population age 25-29 with tertiary schooling. Completed Tertiary\nBarro-Lee: Percentage of population age 25-29 with tertiary schooling. Total (Incomplete and Completed Tertiary)\nBarro-Lee: Percentage of population age 30-34 with no education\nBarro-Lee: Percentage of population age 30-34 with primary schooling. Completed Primary\nBarro-Lee: Percentage of population age 30-34 with primary schooling. Total (Incomplete and Completed Primary)\nBarro-Lee: Percentage of population age 30-34 with secondary schooling. Completed Secondary\nBarro-Lee: Percentage of population age 30-34 with secondary schooling. Total (Incomplete and Completed Secondary)\nBarro-Lee: Percentage of population age 30-34 with tertiary schooling. Completed Tertiary\nBarro-Lee: Percentage of population age 30-34 with tertiary schooling. Total (Incomplete and Completed Tertiary)\nBarro-Lee: Percentage of population age 35-39 with no education\nBarro-Lee: Percentage of population age 35-39 with primary schooling. Completed Primary\nBarro-Lee: Percentage of population age 35-39 with primary schooling. Total (Incomplete and Completed Primary)\nBarro-Lee: Percentage of population age 35-39 with secondary schooling. Completed Secondary\nBarro-Lee: Percentage of population age 35-39 with secondary schooling. Total (Incomplete and Completed Secondary)\nBarro-Lee: Percentage of population age 35-39 with tertiary schooling. Completed Tertiary\nBarro-Lee: Percentage of population age 35-39 with tertiary schooling. Total (Incomplete and Completed Tertiary)\nBarro-Lee: Percentage of population age 40-44 with no education\nBarro-Lee: Percentage of population age 40-44 with primary schooling. Completed Primary\nBarro-Lee: Percentage of population age 40-44 with primary schooling. Total (Incomplete and Completed Primary)\nBarro-Lee: Percentage of population age 40-44 with secondary schooling. Completed Secondary\nBarro-Lee: Percentage of population age 40-44 with secondary schooling. Total (Incomplete and Completed Secondary)\nBarro-Lee: Percentage of population age 40-44 with tertiary schooling. Completed Tertiary\nBarro-Lee: Percentage of population age 40-44 with tertiary schooling. Total (Incomplete and Completed Tertiary)\nBarro-Lee: Percentage of population age 45-49 with no education\nBarro-Lee: Percentage of population age 45-49 with primary schooling. Completed Primary\nBarro-Lee: Percentage of population age 45-49 with primary schooling. Total (Incomplete and Completed Primary)\nBarro-Lee: Percentage of population age 45-49 with secondary schooling. Completed Secondary\nBarro-Lee: Percentage of population age 45-49 with secondary schooling. Total (Incomplete and Completed Secondary)\nBarro-Lee: Percentage of population age 45-49 with tertiary schooling. Completed Tertiary\nBarro-Lee: Percentage of population age 45-49 with tertiary schooling. Total (Incomplete and Completed Tertiary)\nBarro-Lee: Percentage of population age 50-54 with no education\nBarro-Lee: Percentage of population age 50-54 with primary schooling. Completed Primary\nBarro-Lee: Percentage of population age 50-54 with primary schooling. Total (Incomplete and Completed Primary)\nBarro-Lee: Percentage of population age 50-54 with secondary schooling. Completed Secondary\nBarro-Lee: Percentage of population age 50-54 with secondary schooling. Total (Incomplete and Completed Secondary)\nBarro-Lee: Percentage of population age 50-54 with tertiary schooling. Completed Tertiary\nBarro-Lee: Percentage of population age 50-54 with tertiary schooling. Total (Incomplete and Completed Tertiary)\nBarro-Lee: Percentage of population age 55-59 with no education\nBarro-Lee: Percentage of population age 55-59 with primary schooling. Completed Primary\nBarro-Lee: Percentage of population age 55-59 with primary schooling. Total (Incomplete and Completed Primary)\nBarro-Lee: Percentage of population age 55-59 with secondary schooling. Completed Secondary\nBarro-Lee: Percentage of population age 55-59 with secondary schooling. Total (Incomplete and Completed Secondary)\nBarro-Lee: Percentage of population age 55-59 with tertiary schooling. Completed Tertiary\nBarro-Lee: Percentage of population age 55-59 with tertiary schooling. Total (Incomplete and Completed Tertiary)\nBarro-Lee: Percentage of population age 60-64 with no education\nBarro-Lee: Percentage of population age 60-64 with primary schooling. Completed Primary\nBarro-Lee: Percentage of population age 60-64 with primary schooling. Total (Incomplete and Completed Primary)\nBarro-Lee: Percentage of population age 60-64 with secondary schooling. Completed Secondary\nBarro-Lee: Percentage of population age 60-64 with secondary schooling. Total (Incomplete and Completed Secondary)\nBarro-Lee: Percentage of population age 60-64 with tertiary schooling. Completed Tertiary\nBarro-Lee: Percentage of population age 60-64 with tertiary schooling. Total (Incomplete and Completed Tertiary)\nBarro-Lee: Percentage of population age 65-69 with no education\nBarro-Lee: Percentage of population age 65-69 with primary schooling. Completed Primary\nBarro-Lee: Percentage of population age 65-69 with primary schooling. Total (Incomplete and Completed Primary)\nBarro-Lee: Percentage of population age 65-69 with secondary schooling. Completed Secondary\nBarro-Lee: Percentage of population age 65-69 with secondary schooling. Total (Incomplete and Completed Secondary)\nBarro-Lee: Percentage of population age 65-69 with tertiary schooling. Completed Tertiary\nBarro-Lee: Percentage of population age 65-69 with tertiary schooling. Total (Incomplete and Completed Tertiary)\nBarro-Lee: Percentage of population age 70-74 with no education\nBarro-Lee: Percentage of population age 70-74 with primary schooling. Completed Primary\nBarro-Lee: Percentage of population age 70-74 with primary schooling. Total (Incomplete and Completed Primary)\nBarro-Lee: Percentage of population age 70-74 with secondary schooling. Completed Secondary\nBarro-Lee: Percentage of population age 70-74 with secondary schooling. Total (Incomplete and Completed Secondary)\nBarro-Lee: Percentage of population age 70-74 with tertiary schooling. Completed Tertiary\nBarro-Lee: Percentage of population age 70-74 with tertiary schooling. Total (Incomplete and Completed Tertiary)\nBarro-Lee: Percentage of population age 75+ with no education\nBarro-Lee: Percentage of population age 75+ with primary schooling. Completed Primary\nBarro-Lee: Percentage of population age 75+ with primary schooling. Total (Incomplete and Completed Primary)\nBarro-Lee: Percentage of population age 75+ with secondary schooling. Completed Secondary\nBarro-Lee: Percentage of population age 75+ with secondary schooling. Total (Incomplete and Completed Secondary)\nBarro-Lee: Percentage of population age 75+ with tertiary schooling. Completed Tertiary\nBarro-Lee: Percentage of population age 75+ with tertiary schooling. Total (Incomplete and Completed Tertiary)\nBarro-Lee: Population in thousands, age 15+, female\nBarro-Lee: Population in thousands, age 15+, total\nBarro-Lee: Population in thousands, age 15-19, female\nBarro-Lee: Population in thousands, age 15-19, total\nBarro-Lee: Population in thousands, age 20-24, female\nBarro-Lee: Population in thousands, age 20-24, total\nBarro-Lee: Population in thousands, age 25+, female\nBarro-Lee: Population in thousands, age 25+, total\nBarro-Lee: Population in thousands, age 25-29, female\nBarro-Lee: Population in thousands, age 25-29, total\nBarro-Lee: Population in thousands, age 30-34, female\nBarro-Lee: Population in thousands, age 30-34, total\nBarro-Lee: Population in thousands, age 35-39, female\nBarro-Lee: Population in thousands, age 35-39, total\nBarro-Lee: Population in thousands, age 40-44, female\nBarro-Lee: Population in thousands, age 40-44, total\nBarro-Lee: Population in thousands, age 45-49, female\nBarro-Lee: Population in thousands, age 45-49, total\nBarro-Lee: Population in thousands, age 50-54, female\nBarro-Lee: Population in thousands, age 50-54, total\nBarro-Lee: Population in thousands, age 55-59, female\nBarro-Lee: Population in thousands, age 55-59, total\nBarro-Lee: Population in thousands, age 60-64, female\nBarro-Lee: Population in thousands, age 60-64, total\nBarro-Lee: Population in thousands, age 65-69, female\nBarro-Lee: Population in thousands, age 65-69, total\nBarro-Lee: Population in thousands, age 70-74, female\nBarro-Lee: Population in thousands, age 70-74, total\nBarro-Lee: Population in thousands, age 75+, female\nBarro-Lee: Population in thousands, age 75+, total\n"
     ]
    }
   ],
   "source": [
    "for i in indicators:\n",
    "    if 'Barro-Lee' in i:\n",
    "        print(i)"
   ]
  },
  {
   "cell_type": "code",
   "execution_count": 10,
   "metadata": {},
   "outputs": [],
   "source": [
    "off_ed = [\n",
    "'Barro-Lee: Percentage of female population age 25+ with no education',\n",
    "'Barro-Lee: Percentage of female population age 25+ with primary schooling. Completed Primary',\n",
    "'Barro-Lee: Percentage of female population age 25+ with secondary schooling. Completed Secondary',\n",
    "'Barro-Lee: Percentage of female population age 25+ with tertiary schooling. Completed Tertiary',\n",
    "'Barro-Lee: Percentage of population age 25+ with no education',\n",
    "'Barro-Lee: Percentage of population age 25+ with primary schooling. Completed Primary',\n",
    "'Barro-Lee: Percentage of population age 25+ with secondary schooling. Completed Secondary',\n",
    "'Barro-Lee: Percentage of population age 25+ with tertiary schooling. Completed Tertiary',\n",
    "'Barro-Lee: Average years of primary schooling, age 25+, female',\n",
    "'Barro-Lee: Average years of primary schooling, age 25+, total',\n",
    "'Barro-Lee: Average years of secondary schooling, age 25+, female',\n",
    "'Barro-Lee: Average years of secondary schooling, age 25+, total',\n",
    "'Barro-Lee: Average years of tertiary schooling, age 25+, female',\n",
    "'Barro-Lee: Average years of tertiary schooling, age 25+, total',\n",
    "'Barro-Lee: Average years of total schooling, age 25+, female',\n",
    "'Barro-Lee: Average years of total schooling, age 25+, total',\n",
    "'Barro-Lee: Population in thousands, age 25+, female',\n",
    "'Barro-Lee: Population in thousands, age 25+, total'\n",
    "]"
   ]
  },
  {
   "cell_type": "code",
   "execution_count": 11,
   "metadata": {},
   "outputs": [],
   "source": [
    "df_off_reg = ed_df[ed_df['Indicator Name'].isin(off_ed)].copy()\n",
    "df_off_reg.dropna(axis=1, how='all', inplace=True)"
   ]
  },
  {
   "cell_type": "code",
   "execution_count": 12,
   "metadata": {},
   "outputs": [
    {
     "output_type": "stream",
     "name": "stdout",
     "text": [
      "<class 'pandas.core.frame.DataFrame'>\nInt64Index: 4356 entries, 155 to 883751\nData columns (total 13 columns):\n #   Column          Non-Null Count  Dtype  \n---  ------          --------------  -----  \n 0   Country Name    4356 non-null   object \n 1   Country Code    4356 non-null   object \n 2   Indicator Name  4356 non-null   object \n 3   Indicator Code  4356 non-null   object \n 4   1970            2592 non-null   float64\n 5   1975            2592 non-null   float64\n 6   1980            2592 non-null   float64\n 7   1985            2592 non-null   float64\n 8   1990            2592 non-null   float64\n 9   1995            2592 non-null   float64\n 10  2000            2592 non-null   float64\n 11  2005            2592 non-null   float64\n 12  2010            2592 non-null   float64\ndtypes: float64(9), object(4)\nmemory usage: 476.4+ KB\n"
     ]
    }
   ],
   "source": [
    "df_off_reg.info()"
   ]
  },
  {
   "cell_type": "code",
   "execution_count": 13,
   "metadata": {},
   "outputs": [],
   "source": [
    "df_c = pd.read_csv(os.path.join(processed_data, countries))"
   ]
  },
  {
   "cell_type": "code",
   "execution_count": 14,
   "metadata": {},
   "outputs": [
    {
     "output_type": "execute_result",
     "data": {
      "text/plain": [
       "    Country Code    Short Name                      Region  \\\n",
       "0            ABW         Aruba   Latin America & Caribbean   \n",
       "1            AFG   Afghanistan                  South Asia   \n",
       "2            AGO        Angola          Sub-Saharan Africa   \n",
       "3            ALB       Albania       Europe & Central Asia   \n",
       "4            AND       Andorra       Europe & Central Asia   \n",
       "..           ...           ...                         ...   \n",
       "236          XKX        Kosovo       Europe & Central Asia   \n",
       "237          YEM         Yemen  Middle East & North Africa   \n",
       "238          ZAF  South Africa          Sub-Saharan Africa   \n",
       "239          ZMB        Zambia          Sub-Saharan Africa   \n",
       "240          ZWE      Zimbabwe          Sub-Saharan Africa   \n",
       "\n",
       "             Income Group  POP_census_year  Is_Country  \n",
       "0    High income: nonOECD           2010.0        True  \n",
       "1              Low income           1979.0        True  \n",
       "2     Upper middle income           1970.0        True  \n",
       "3     Upper middle income           2011.0        True  \n",
       "4    High income: nonOECD           2011.0        True  \n",
       "..                    ...              ...         ...  \n",
       "236   Lower middle income           2011.0        True  \n",
       "237   Lower middle income           2004.0        True  \n",
       "238   Upper middle income           2011.0        True  \n",
       "239   Lower middle income           2010.0        True  \n",
       "240            Low income           2012.0        True  \n",
       "\n",
       "[241 rows x 6 columns]"
      ],
      "text/html": "<div>\n<style scoped>\n    .dataframe tbody tr th:only-of-type {\n        vertical-align: middle;\n    }\n\n    .dataframe tbody tr th {\n        vertical-align: top;\n    }\n\n    .dataframe thead th {\n        text-align: right;\n    }\n</style>\n<table border=\"1\" class=\"dataframe\">\n  <thead>\n    <tr style=\"text-align: right;\">\n      <th></th>\n      <th>Country Code</th>\n      <th>Short Name</th>\n      <th>Region</th>\n      <th>Income Group</th>\n      <th>POP_census_year</th>\n      <th>Is_Country</th>\n    </tr>\n  </thead>\n  <tbody>\n    <tr>\n      <th>0</th>\n      <td>ABW</td>\n      <td>Aruba</td>\n      <td>Latin America &amp; Caribbean</td>\n      <td>High income: nonOECD</td>\n      <td>2010.0</td>\n      <td>True</td>\n    </tr>\n    <tr>\n      <th>1</th>\n      <td>AFG</td>\n      <td>Afghanistan</td>\n      <td>South Asia</td>\n      <td>Low income</td>\n      <td>1979.0</td>\n      <td>True</td>\n    </tr>\n    <tr>\n      <th>2</th>\n      <td>AGO</td>\n      <td>Angola</td>\n      <td>Sub-Saharan Africa</td>\n      <td>Upper middle income</td>\n      <td>1970.0</td>\n      <td>True</td>\n    </tr>\n    <tr>\n      <th>3</th>\n      <td>ALB</td>\n      <td>Albania</td>\n      <td>Europe &amp; Central Asia</td>\n      <td>Upper middle income</td>\n      <td>2011.0</td>\n      <td>True</td>\n    </tr>\n    <tr>\n      <th>4</th>\n      <td>AND</td>\n      <td>Andorra</td>\n      <td>Europe &amp; Central Asia</td>\n      <td>High income: nonOECD</td>\n      <td>2011.0</td>\n      <td>True</td>\n    </tr>\n    <tr>\n      <th>...</th>\n      <td>...</td>\n      <td>...</td>\n      <td>...</td>\n      <td>...</td>\n      <td>...</td>\n      <td>...</td>\n    </tr>\n    <tr>\n      <th>236</th>\n      <td>XKX</td>\n      <td>Kosovo</td>\n      <td>Europe &amp; Central Asia</td>\n      <td>Lower middle income</td>\n      <td>2011.0</td>\n      <td>True</td>\n    </tr>\n    <tr>\n      <th>237</th>\n      <td>YEM</td>\n      <td>Yemen</td>\n      <td>Middle East &amp; North Africa</td>\n      <td>Lower middle income</td>\n      <td>2004.0</td>\n      <td>True</td>\n    </tr>\n    <tr>\n      <th>238</th>\n      <td>ZAF</td>\n      <td>South Africa</td>\n      <td>Sub-Saharan Africa</td>\n      <td>Upper middle income</td>\n      <td>2011.0</td>\n      <td>True</td>\n    </tr>\n    <tr>\n      <th>239</th>\n      <td>ZMB</td>\n      <td>Zambia</td>\n      <td>Sub-Saharan Africa</td>\n      <td>Lower middle income</td>\n      <td>2010.0</td>\n      <td>True</td>\n    </tr>\n    <tr>\n      <th>240</th>\n      <td>ZWE</td>\n      <td>Zimbabwe</td>\n      <td>Sub-Saharan Africa</td>\n      <td>Low income</td>\n      <td>2012.0</td>\n      <td>True</td>\n    </tr>\n  </tbody>\n</table>\n<p>241 rows × 6 columns</p>\n</div>"
     },
     "metadata": {},
     "execution_count": 14
    }
   ],
   "source": [
    "df_c"
   ]
  },
  {
   "cell_type": "code",
   "execution_count": 15,
   "metadata": {},
   "outputs": [],
   "source": [
    "df_c = df_c[['Country Code','Region','Income Group', 'Is_Country']]"
   ]
  },
  {
   "cell_type": "code",
   "execution_count": 16,
   "metadata": {},
   "outputs": [],
   "source": [
    "df_off = df_off_reg.join(df_c.set_index('Country Code'), on='Country Code', how='left')"
   ]
  },
  {
   "cell_type": "code",
   "execution_count": 17,
   "metadata": {},
   "outputs": [
    {
     "output_type": "stream",
     "name": "stdout",
     "text": [
      "<class 'pandas.core.frame.DataFrame'>\nInt64Index: 4356 entries, 155 to 883751\nData columns (total 16 columns):\n #   Column          Non-Null Count  Dtype  \n---  ------          --------------  -----  \n 0   Country Name    4356 non-null   object \n 1   Country Code    4356 non-null   object \n 2   Indicator Name  4356 non-null   object \n 3   Indicator Code  4356 non-null   object \n 4   1970            2592 non-null   float64\n 5   1975            2592 non-null   float64\n 6   1980            2592 non-null   float64\n 7   1985            2592 non-null   float64\n 8   1990            2592 non-null   float64\n 9   1995            2592 non-null   float64\n 10  2000            2592 non-null   float64\n 11  2005            2592 non-null   float64\n 12  2010            2592 non-null   float64\n 13  Region          3852 non-null   object \n 14  Income Group    3852 non-null   object \n 15  Is_Country      4338 non-null   object \ndtypes: float64(9), object(7)\nmemory usage: 578.5+ KB\n"
     ]
    }
   ],
   "source": [
    "df_off.info()"
   ]
  },
  {
   "cell_type": "code",
   "execution_count": 18,
   "metadata": {},
   "outputs": [],
   "source": [
    "df_off['Is_Country'].fillna(value=False, inplace=True)"
   ]
  },
  {
   "cell_type": "code",
   "execution_count": 19,
   "metadata": {},
   "outputs": [
    {
     "output_type": "stream",
     "name": "stdout",
     "text": [
      "<class 'pandas.core.frame.DataFrame'>\nInt64Index: 468 entries, 155 to 191066\nData columns (total 16 columns):\n #   Column          Non-Null Count  Dtype  \n---  ------          --------------  -----  \n 0   Country Name    468 non-null    object \n 1   Country Code    468 non-null    object \n 2   Indicator Name  468 non-null    object \n 3   Indicator Code  468 non-null    object \n 4   1970            0 non-null      float64\n 5   1975            0 non-null      float64\n 6   1980            0 non-null      float64\n 7   1985            0 non-null      float64\n 8   1990            0 non-null      float64\n 9   1995            0 non-null      float64\n 10  2000            0 non-null      float64\n 11  2005            0 non-null      float64\n 12  2010            0 non-null      float64\n 13  Region          0 non-null      object \n 14  Income Group    0 non-null      object \n 15  Is_Country      468 non-null    bool   \ndtypes: bool(1), float64(9), object(6)\nmemory usage: 59.0+ KB\n"
     ]
    }
   ],
   "source": [
    "df_off[~df_off['Is_Country']].info()"
   ]
  },
  {
   "cell_type": "code",
   "execution_count": 20,
   "metadata": {},
   "outputs": [],
   "source": [
    "df_off = df_off[df_off['Is_Country']].copy()"
   ]
  },
  {
   "cell_type": "code",
   "execution_count": 21,
   "metadata": {},
   "outputs": [],
   "source": [
    "df_off.drop(columns='Is_Country', inplace=True)"
   ]
  },
  {
   "cell_type": "code",
   "execution_count": 22,
   "metadata": {},
   "outputs": [
    {
     "output_type": "execute_result",
     "data": {
      "text/plain": [
       "       Country Name Country Code  \\\n",
       "91780   Afghanistan          AFG   \n",
       "91781   Afghanistan          AFG   \n",
       "91810   Afghanistan          AFG   \n",
       "91811   Afghanistan          AFG   \n",
       "91840   Afghanistan          AFG   \n",
       "...             ...          ...   \n",
       "883661     Zimbabwe          ZWE   \n",
       "883663     Zimbabwe          ZWE   \n",
       "883665     Zimbabwe          ZWE   \n",
       "883750     Zimbabwe          ZWE   \n",
       "883751     Zimbabwe          ZWE   \n",
       "\n",
       "                                           Indicator Name     1970     1975  \\\n",
       "91780   Barro-Lee: Average years of primary schooling,...     0.03     0.07   \n",
       "91781   Barro-Lee: Average years of primary schooling,...     0.23     0.37   \n",
       "91810   Barro-Lee: Average years of secondary schoolin...     0.01     0.03   \n",
       "91811   Barro-Lee: Average years of secondary schoolin...     0.09     0.18   \n",
       "91840   Barro-Lee: Average years of tertiary schooling...     0.01     0.01   \n",
       "...                                                   ...      ...      ...   \n",
       "883661  Barro-Lee: Percentage of population age 25+ wi...    10.27    16.16   \n",
       "883663  Barro-Lee: Percentage of population age 25+ wi...     3.15     3.86   \n",
       "883665  Barro-Lee: Percentage of population age 25+ wi...     1.39     1.77   \n",
       "883750  Barro-Lee: Population in thousands, age 25+, f...   899.00  1011.00   \n",
       "883751  Barro-Lee: Population in thousands, age 25+, t...  1770.00  1986.00   \n",
       "\n",
       "           1980     1985     1990     1995     2000     2005     2010  \\\n",
       "91780      0.10     0.17     0.25     0.37     0.48     0.63     0.81   \n",
       "91781      0.46     0.66     0.85     1.14     1.38     1.69     2.19   \n",
       "91810      0.05     0.08     0.13     0.17     0.21     0.27     0.25   \n",
       "91811      0.23     0.35     0.45     0.50     0.53     0.65     0.76   \n",
       "91840      0.02     0.03     0.05     0.06     0.08     0.09     0.10   \n",
       "...         ...      ...      ...      ...      ...      ...      ...   \n",
       "883661    17.72    19.16    20.18    22.44    19.13    21.34    21.92   \n",
       "883663     4.69     8.39    11.85    15.54     8.80    10.35     9.33   \n",
       "883665     2.06     2.80     3.25     2.19     1.03     0.86     0.71   \n",
       "883750  1174.00  1459.00  1807.00  2094.00  2253.00  2316.00  2478.00   \n",
       "883751  2295.00  2862.00  3549.00  4053.00  4334.00  4524.00  4940.00   \n",
       "\n",
       "                    Region Income Group  \n",
       "91780           South Asia   Low income  \n",
       "91781           South Asia   Low income  \n",
       "91810           South Asia   Low income  \n",
       "91811           South Asia   Low income  \n",
       "91840           South Asia   Low income  \n",
       "...                    ...          ...  \n",
       "883661  Sub-Saharan Africa   Low income  \n",
       "883663  Sub-Saharan Africa   Low income  \n",
       "883665  Sub-Saharan Africa   Low income  \n",
       "883750  Sub-Saharan Africa   Low income  \n",
       "883751  Sub-Saharan Africa   Low income  \n",
       "\n",
       "[3888 rows x 14 columns]"
      ],
      "text/html": "<div>\n<style scoped>\n    .dataframe tbody tr th:only-of-type {\n        vertical-align: middle;\n    }\n\n    .dataframe tbody tr th {\n        vertical-align: top;\n    }\n\n    .dataframe thead th {\n        text-align: right;\n    }\n</style>\n<table border=\"1\" class=\"dataframe\">\n  <thead>\n    <tr style=\"text-align: right;\">\n      <th></th>\n      <th>Country Name</th>\n      <th>Country Code</th>\n      <th>Indicator Name</th>\n      <th>1970</th>\n      <th>1975</th>\n      <th>1980</th>\n      <th>1985</th>\n      <th>1990</th>\n      <th>1995</th>\n      <th>2000</th>\n      <th>2005</th>\n      <th>2010</th>\n      <th>Region</th>\n      <th>Income Group</th>\n    </tr>\n  </thead>\n  <tbody>\n    <tr>\n      <th>91780</th>\n      <td>Afghanistan</td>\n      <td>AFG</td>\n      <td>Barro-Lee: Average years of primary schooling,...</td>\n      <td>0.03</td>\n      <td>0.07</td>\n      <td>0.10</td>\n      <td>0.17</td>\n      <td>0.25</td>\n      <td>0.37</td>\n      <td>0.48</td>\n      <td>0.63</td>\n      <td>0.81</td>\n      <td>South Asia</td>\n      <td>Low income</td>\n    </tr>\n    <tr>\n      <th>91781</th>\n      <td>Afghanistan</td>\n      <td>AFG</td>\n      <td>Barro-Lee: Average years of primary schooling,...</td>\n      <td>0.23</td>\n      <td>0.37</td>\n      <td>0.46</td>\n      <td>0.66</td>\n      <td>0.85</td>\n      <td>1.14</td>\n      <td>1.38</td>\n      <td>1.69</td>\n      <td>2.19</td>\n      <td>South Asia</td>\n      <td>Low income</td>\n    </tr>\n    <tr>\n      <th>91810</th>\n      <td>Afghanistan</td>\n      <td>AFG</td>\n      <td>Barro-Lee: Average years of secondary schoolin...</td>\n      <td>0.01</td>\n      <td>0.03</td>\n      <td>0.05</td>\n      <td>0.08</td>\n      <td>0.13</td>\n      <td>0.17</td>\n      <td>0.21</td>\n      <td>0.27</td>\n      <td>0.25</td>\n      <td>South Asia</td>\n      <td>Low income</td>\n    </tr>\n    <tr>\n      <th>91811</th>\n      <td>Afghanistan</td>\n      <td>AFG</td>\n      <td>Barro-Lee: Average years of secondary schoolin...</td>\n      <td>0.09</td>\n      <td>0.18</td>\n      <td>0.23</td>\n      <td>0.35</td>\n      <td>0.45</td>\n      <td>0.50</td>\n      <td>0.53</td>\n      <td>0.65</td>\n      <td>0.76</td>\n      <td>South Asia</td>\n      <td>Low income</td>\n    </tr>\n    <tr>\n      <th>91840</th>\n      <td>Afghanistan</td>\n      <td>AFG</td>\n      <td>Barro-Lee: Average years of tertiary schooling...</td>\n      <td>0.01</td>\n      <td>0.01</td>\n      <td>0.02</td>\n      <td>0.03</td>\n      <td>0.05</td>\n      <td>0.06</td>\n      <td>0.08</td>\n      <td>0.09</td>\n      <td>0.10</td>\n      <td>South Asia</td>\n      <td>Low income</td>\n    </tr>\n    <tr>\n      <th>...</th>\n      <td>...</td>\n      <td>...</td>\n      <td>...</td>\n      <td>...</td>\n      <td>...</td>\n      <td>...</td>\n      <td>...</td>\n      <td>...</td>\n      <td>...</td>\n      <td>...</td>\n      <td>...</td>\n      <td>...</td>\n      <td>...</td>\n      <td>...</td>\n    </tr>\n    <tr>\n      <th>883661</th>\n      <td>Zimbabwe</td>\n      <td>ZWE</td>\n      <td>Barro-Lee: Percentage of population age 25+ wi...</td>\n      <td>10.27</td>\n      <td>16.16</td>\n      <td>17.72</td>\n      <td>19.16</td>\n      <td>20.18</td>\n      <td>22.44</td>\n      <td>19.13</td>\n      <td>21.34</td>\n      <td>21.92</td>\n      <td>Sub-Saharan Africa</td>\n      <td>Low income</td>\n    </tr>\n    <tr>\n      <th>883663</th>\n      <td>Zimbabwe</td>\n      <td>ZWE</td>\n      <td>Barro-Lee: Percentage of population age 25+ wi...</td>\n      <td>3.15</td>\n      <td>3.86</td>\n      <td>4.69</td>\n      <td>8.39</td>\n      <td>11.85</td>\n      <td>15.54</td>\n      <td>8.80</td>\n      <td>10.35</td>\n      <td>9.33</td>\n      <td>Sub-Saharan Africa</td>\n      <td>Low income</td>\n    </tr>\n    <tr>\n      <th>883665</th>\n      <td>Zimbabwe</td>\n      <td>ZWE</td>\n      <td>Barro-Lee: Percentage of population age 25+ wi...</td>\n      <td>1.39</td>\n      <td>1.77</td>\n      <td>2.06</td>\n      <td>2.80</td>\n      <td>3.25</td>\n      <td>2.19</td>\n      <td>1.03</td>\n      <td>0.86</td>\n      <td>0.71</td>\n      <td>Sub-Saharan Africa</td>\n      <td>Low income</td>\n    </tr>\n    <tr>\n      <th>883750</th>\n      <td>Zimbabwe</td>\n      <td>ZWE</td>\n      <td>Barro-Lee: Population in thousands, age 25+, f...</td>\n      <td>899.00</td>\n      <td>1011.00</td>\n      <td>1174.00</td>\n      <td>1459.00</td>\n      <td>1807.00</td>\n      <td>2094.00</td>\n      <td>2253.00</td>\n      <td>2316.00</td>\n      <td>2478.00</td>\n      <td>Sub-Saharan Africa</td>\n      <td>Low income</td>\n    </tr>\n    <tr>\n      <th>883751</th>\n      <td>Zimbabwe</td>\n      <td>ZWE</td>\n      <td>Barro-Lee: Population in thousands, age 25+, t...</td>\n      <td>1770.00</td>\n      <td>1986.00</td>\n      <td>2295.00</td>\n      <td>2862.00</td>\n      <td>3549.00</td>\n      <td>4053.00</td>\n      <td>4334.00</td>\n      <td>4524.00</td>\n      <td>4940.00</td>\n      <td>Sub-Saharan Africa</td>\n      <td>Low income</td>\n    </tr>\n  </tbody>\n</table>\n<p>3888 rows × 14 columns</p>\n</div>"
     },
     "metadata": {},
     "execution_count": 22
    }
   ],
   "source": [
    "df_off.drop(columns='Indicator Code', inplace=True)\n",
    "df_off"
   ]
  },
  {
   "cell_type": "code",
   "execution_count": 23,
   "metadata": {},
   "outputs": [],
   "source": [
    "df_off = pd.melt(df_off,\n",
    "                 id_vars=['Country Code','Country Name','Indicator Name','Region','Income Group'],\n",
    "                 value_vars=['1970','1975','1980','1985','1990','1995','2000','2005','2010'],\n",
    "                 var_name='Year',\n",
    "                 value_name='Value')"
   ]
  },
  {
   "cell_type": "code",
   "execution_count": 24,
   "metadata": {},
   "outputs": [
    {
     "output_type": "execute_result",
     "data": {
      "text/plain": [
       "array(['Barro-Lee: Average years of primary schooling, age 25+, female',\n",
       "       'Barro-Lee: Average years of primary schooling, age 25+, total',\n",
       "       'Barro-Lee: Average years of secondary schooling, age 25+, female',\n",
       "       'Barro-Lee: Average years of secondary schooling, age 25+, total',\n",
       "       'Barro-Lee: Average years of tertiary schooling, age 25+, female',\n",
       "       'Barro-Lee: Average years of tertiary schooling, age 25+, total',\n",
       "       'Barro-Lee: Average years of total schooling, age 25+, female',\n",
       "       'Barro-Lee: Average years of total schooling, age 25+, total',\n",
       "       'Barro-Lee: Percentage of female population age 25+ with no education',\n",
       "       'Barro-Lee: Percentage of female population age 25+ with primary schooling. Completed Primary',\n",
       "       'Barro-Lee: Percentage of female population age 25+ with secondary schooling. Completed Secondary',\n",
       "       'Barro-Lee: Percentage of female population age 25+ with tertiary schooling. Completed Tertiary',\n",
       "       'Barro-Lee: Percentage of population age 25+ with no education',\n",
       "       'Barro-Lee: Percentage of population age 25+ with primary schooling. Completed Primary',\n",
       "       'Barro-Lee: Percentage of population age 25+ with secondary schooling. Completed Secondary',\n",
       "       'Barro-Lee: Percentage of population age 25+ with tertiary schooling. Completed Tertiary',\n",
       "       'Barro-Lee: Population in thousands, age 25+, female',\n",
       "       'Barro-Lee: Population in thousands, age 25+, total'], dtype=object)"
      ]
     },
     "metadata": {},
     "execution_count": 24
    }
   ],
   "source": [
    "df_off['Indicator Name'].unique()"
   ]
  },
  {
   "cell_type": "code",
   "execution_count": 25,
   "metadata": {},
   "outputs": [],
   "source": [
    "df_off['Indicator Name'] = df_off['Indicator Name'].apply(u.simplify_indicators)"
   ]
  },
  {
   "cell_type": "code",
   "execution_count": 26,
   "metadata": {},
   "outputs": [
    {
     "output_type": "execute_result",
     "data": {
      "text/plain": [
       "array(['Avg. years of primary schooling, age 25+, female',\n",
       "       'Avg. years of primary schooling, age 25+, total',\n",
       "       'Avg. years of secondary schooling, age 25+, female',\n",
       "       'Avg. years of secondary schooling, age 25+, total',\n",
       "       'Avg. years of tertiary schooling, age 25+, female',\n",
       "       'Avg. years of tertiary schooling, age 25+, total',\n",
       "       'Avg. years of total schooling, age 25+, female',\n",
       "       'Avg. years of total schooling, age 25+, total',\n",
       "       '% of female pop. age 25+ with no education',\n",
       "       '% of female pop. age 25+ with primary schooling',\n",
       "       '% of female pop. age 25+ with secondary schooling',\n",
       "       '% of female pop. age 25+ with tertiary schooling',\n",
       "       '% of pop. age 25+ with no education',\n",
       "       '% of pop. age 25+ with primary schooling',\n",
       "       '% of pop. age 25+ with secondary schooling',\n",
       "       '% of pop. age 25+ with tertiary schooling',\n",
       "       'Pop. in thousands, age 25+, female',\n",
       "       'Pop. in thousands, age 25+, total'], dtype=object)"
      ]
     },
     "metadata": {},
     "execution_count": 26
    }
   ],
   "source": [
    "df_off['Indicator Name'].unique()"
   ]
  },
  {
   "cell_type": "code",
   "execution_count": 27,
   "metadata": {},
   "outputs": [],
   "source": [
    "df_off = df_off.set_index(['Indicator Name','Country Code','Country Name','Region','Income Group','Year' ]).unstack('Indicator Name')"
   ]
  },
  {
   "cell_type": "code",
   "execution_count": 28,
   "metadata": {},
   "outputs": [],
   "source": [
    "df_off = df_off.reset_index()"
   ]
  },
  {
   "cell_type": "code",
   "execution_count": 29,
   "metadata": {},
   "outputs": [],
   "source": [
    "df_off.to_csv(os.path.join(clean_data,'education_level.csv'))"
   ]
  },
  {
   "cell_type": "code",
   "execution_count": 30,
   "metadata": {},
   "outputs": [
    {
     "output_type": "execute_result",
     "data": {
      "text/plain": [
       "               Country Code Country Name                     Region  \\\n",
       "Indicator Name                                                        \n",
       "0                       ABW        Aruba  Latin America & Caribbean   \n",
       "1                       ABW        Aruba  Latin America & Caribbean   \n",
       "2                       ABW        Aruba  Latin America & Caribbean   \n",
       "3                       ABW        Aruba  Latin America & Caribbean   \n",
       "4                       ABW        Aruba  Latin America & Caribbean   \n",
       "\n",
       "                        Income Group  Year  \\\n",
       "Indicator Name                               \n",
       "0               High income: nonOECD  1970   \n",
       "1               High income: nonOECD  1975   \n",
       "2               High income: nonOECD  1980   \n",
       "3               High income: nonOECD  1985   \n",
       "4               High income: nonOECD  1990   \n",
       "\n",
       "                                                    Value  \\\n",
       "Indicator Name % of female pop. age 25+ with no education   \n",
       "0                                                     NaN   \n",
       "1                                                     NaN   \n",
       "2                                                     NaN   \n",
       "3                                                     NaN   \n",
       "4                                                     NaN   \n",
       "\n",
       "                                                                \\\n",
       "Indicator Name % of female pop. age 25+ with primary schooling   \n",
       "0                                                          NaN   \n",
       "1                                                          NaN   \n",
       "2                                                          NaN   \n",
       "3                                                          NaN   \n",
       "4                                                          NaN   \n",
       "\n",
       "                                                                  \\\n",
       "Indicator Name % of female pop. age 25+ with secondary schooling   \n",
       "0                                                            NaN   \n",
       "1                                                            NaN   \n",
       "2                                                            NaN   \n",
       "3                                                            NaN   \n",
       "4                                                            NaN   \n",
       "\n",
       "                                                                 \\\n",
       "Indicator Name % of female pop. age 25+ with tertiary schooling   \n",
       "0                                                           NaN   \n",
       "1                                                           NaN   \n",
       "2                                                           NaN   \n",
       "3                                                           NaN   \n",
       "4                                                           NaN   \n",
       "\n",
       "                                                    ...  \\\n",
       "Indicator Name % of pop. age 25+ with no education  ...   \n",
       "0                                              NaN  ...   \n",
       "1                                              NaN  ...   \n",
       "2                                              NaN  ...   \n",
       "3                                              NaN  ...   \n",
       "4                                              NaN  ...   \n",
       "\n",
       "                                                                 \\\n",
       "Indicator Name Avg. years of primary schooling, age 25+, female   \n",
       "0                                                           NaN   \n",
       "1                                                           NaN   \n",
       "2                                                           NaN   \n",
       "3                                                           NaN   \n",
       "4                                                           NaN   \n",
       "\n",
       "                                                                \\\n",
       "Indicator Name Avg. years of primary schooling, age 25+, total   \n",
       "0                                                          NaN   \n",
       "1                                                          NaN   \n",
       "2                                                          NaN   \n",
       "3                                                          NaN   \n",
       "4                                                          NaN   \n",
       "\n",
       "                                                                   \\\n",
       "Indicator Name Avg. years of secondary schooling, age 25+, female   \n",
       "0                                                             NaN   \n",
       "1                                                             NaN   \n",
       "2                                                             NaN   \n",
       "3                                                             NaN   \n",
       "4                                                             NaN   \n",
       "\n",
       "                                                                  \\\n",
       "Indicator Name Avg. years of secondary schooling, age 25+, total   \n",
       "0                                                            NaN   \n",
       "1                                                            NaN   \n",
       "2                                                            NaN   \n",
       "3                                                            NaN   \n",
       "4                                                            NaN   \n",
       "\n",
       "                                                                  \\\n",
       "Indicator Name Avg. years of tertiary schooling, age 25+, female   \n",
       "0                                                            NaN   \n",
       "1                                                            NaN   \n",
       "2                                                            NaN   \n",
       "3                                                            NaN   \n",
       "4                                                            NaN   \n",
       "\n",
       "                                                                 \\\n",
       "Indicator Name Avg. years of tertiary schooling, age 25+, total   \n",
       "0                                                           NaN   \n",
       "1                                                           NaN   \n",
       "2                                                           NaN   \n",
       "3                                                           NaN   \n",
       "4                                                           NaN   \n",
       "\n",
       "                                                               \\\n",
       "Indicator Name Avg. years of total schooling, age 25+, female   \n",
       "0                                                         NaN   \n",
       "1                                                         NaN   \n",
       "2                                                         NaN   \n",
       "3                                                         NaN   \n",
       "4                                                         NaN   \n",
       "\n",
       "                                                              \\\n",
       "Indicator Name Avg. years of total schooling, age 25+, total   \n",
       "0                                                        NaN   \n",
       "1                                                        NaN   \n",
       "2                                                        NaN   \n",
       "3                                                        NaN   \n",
       "4                                                        NaN   \n",
       "\n",
       "                                                   \\\n",
       "Indicator Name Pop. in thousands, age 25+, female   \n",
       "0                                             NaN   \n",
       "1                                             NaN   \n",
       "2                                             NaN   \n",
       "3                                             NaN   \n",
       "4                                             NaN   \n",
       "\n",
       "                                                  \n",
       "Indicator Name Pop. in thousands, age 25+, total  \n",
       "0                                            NaN  \n",
       "1                                            NaN  \n",
       "2                                            NaN  \n",
       "3                                            NaN  \n",
       "4                                            NaN  \n",
       "\n",
       "[5 rows x 23 columns]"
      ],
      "text/html": "<div>\n<style scoped>\n    .dataframe tbody tr th:only-of-type {\n        vertical-align: middle;\n    }\n\n    .dataframe tbody tr th {\n        vertical-align: top;\n    }\n\n    .dataframe thead tr th {\n        text-align: left;\n    }\n</style>\n<table border=\"1\" class=\"dataframe\">\n  <thead>\n    <tr>\n      <th></th>\n      <th>Country Code</th>\n      <th>Country Name</th>\n      <th>Region</th>\n      <th>Income Group</th>\n      <th>Year</th>\n      <th colspan=\"16\" halign=\"left\">Value</th>\n    </tr>\n    <tr>\n      <th>Indicator Name</th>\n      <th></th>\n      <th></th>\n      <th></th>\n      <th></th>\n      <th></th>\n      <th>% of female pop. age 25+ with no education</th>\n      <th>% of female pop. age 25+ with primary schooling</th>\n      <th>% of female pop. age 25+ with secondary schooling</th>\n      <th>% of female pop. age 25+ with tertiary schooling</th>\n      <th>% of pop. age 25+ with no education</th>\n      <th>...</th>\n      <th>Avg. years of primary schooling, age 25+, female</th>\n      <th>Avg. years of primary schooling, age 25+, total</th>\n      <th>Avg. years of secondary schooling, age 25+, female</th>\n      <th>Avg. years of secondary schooling, age 25+, total</th>\n      <th>Avg. years of tertiary schooling, age 25+, female</th>\n      <th>Avg. years of tertiary schooling, age 25+, total</th>\n      <th>Avg. years of total schooling, age 25+, female</th>\n      <th>Avg. years of total schooling, age 25+, total</th>\n      <th>Pop. in thousands, age 25+, female</th>\n      <th>Pop. in thousands, age 25+, total</th>\n    </tr>\n  </thead>\n  <tbody>\n    <tr>\n      <th>0</th>\n      <td>ABW</td>\n      <td>Aruba</td>\n      <td>Latin America &amp; Caribbean</td>\n      <td>High income: nonOECD</td>\n      <td>1970</td>\n      <td>NaN</td>\n      <td>NaN</td>\n      <td>NaN</td>\n      <td>NaN</td>\n      <td>NaN</td>\n      <td>...</td>\n      <td>NaN</td>\n      <td>NaN</td>\n      <td>NaN</td>\n      <td>NaN</td>\n      <td>NaN</td>\n      <td>NaN</td>\n      <td>NaN</td>\n      <td>NaN</td>\n      <td>NaN</td>\n      <td>NaN</td>\n    </tr>\n    <tr>\n      <th>1</th>\n      <td>ABW</td>\n      <td>Aruba</td>\n      <td>Latin America &amp; Caribbean</td>\n      <td>High income: nonOECD</td>\n      <td>1975</td>\n      <td>NaN</td>\n      <td>NaN</td>\n      <td>NaN</td>\n      <td>NaN</td>\n      <td>NaN</td>\n      <td>...</td>\n      <td>NaN</td>\n      <td>NaN</td>\n      <td>NaN</td>\n      <td>NaN</td>\n      <td>NaN</td>\n      <td>NaN</td>\n      <td>NaN</td>\n      <td>NaN</td>\n      <td>NaN</td>\n      <td>NaN</td>\n    </tr>\n    <tr>\n      <th>2</th>\n      <td>ABW</td>\n      <td>Aruba</td>\n      <td>Latin America &amp; Caribbean</td>\n      <td>High income: nonOECD</td>\n      <td>1980</td>\n      <td>NaN</td>\n      <td>NaN</td>\n      <td>NaN</td>\n      <td>NaN</td>\n      <td>NaN</td>\n      <td>...</td>\n      <td>NaN</td>\n      <td>NaN</td>\n      <td>NaN</td>\n      <td>NaN</td>\n      <td>NaN</td>\n      <td>NaN</td>\n      <td>NaN</td>\n      <td>NaN</td>\n      <td>NaN</td>\n      <td>NaN</td>\n    </tr>\n    <tr>\n      <th>3</th>\n      <td>ABW</td>\n      <td>Aruba</td>\n      <td>Latin America &amp; Caribbean</td>\n      <td>High income: nonOECD</td>\n      <td>1985</td>\n      <td>NaN</td>\n      <td>NaN</td>\n      <td>NaN</td>\n      <td>NaN</td>\n      <td>NaN</td>\n      <td>...</td>\n      <td>NaN</td>\n      <td>NaN</td>\n      <td>NaN</td>\n      <td>NaN</td>\n      <td>NaN</td>\n      <td>NaN</td>\n      <td>NaN</td>\n      <td>NaN</td>\n      <td>NaN</td>\n      <td>NaN</td>\n    </tr>\n    <tr>\n      <th>4</th>\n      <td>ABW</td>\n      <td>Aruba</td>\n      <td>Latin America &amp; Caribbean</td>\n      <td>High income: nonOECD</td>\n      <td>1990</td>\n      <td>NaN</td>\n      <td>NaN</td>\n      <td>NaN</td>\n      <td>NaN</td>\n      <td>NaN</td>\n      <td>...</td>\n      <td>NaN</td>\n      <td>NaN</td>\n      <td>NaN</td>\n      <td>NaN</td>\n      <td>NaN</td>\n      <td>NaN</td>\n      <td>NaN</td>\n      <td>NaN</td>\n      <td>NaN</td>\n      <td>NaN</td>\n    </tr>\n  </tbody>\n</table>\n<p>5 rows × 23 columns</p>\n</div>"
     },
     "metadata": {},
     "execution_count": 30
    }
   ],
   "source": [
    "df_off.head()"
   ]
  },
  {
   "cell_type": "code",
   "execution_count": 31,
   "metadata": {},
   "outputs": [],
   "source": [
    "# stripping multindex from columns\n",
    "df_off.columns = [' '.join(col).strip().replace('Value ','') for col in df_off.columns.values]"
   ]
  },
  {
   "cell_type": "code",
   "execution_count": 32,
   "metadata": {},
   "outputs": [
    {
     "output_type": "execute_result",
     "data": {
      "text/plain": [
       "array(['Aruba', 'Angola', 'Andorra', 'American Samoa',\n",
       "       'Antigua and Barbuda', 'Azerbaijan', 'Burkina Faso',\n",
       "       'Bahamas, The', 'Bosnia and Herzegovina', 'Belarus', 'Bermuda',\n",
       "       'Bhutan', 'Channel Islands', 'Comoros', 'Cabo Verde', 'Curacao',\n",
       "       'Cayman Islands', 'Djibouti', 'Dominica', 'Eritrea', 'Ethiopia',\n",
       "       'Faroe Islands', 'Micronesia, Fed. Sts.', 'Georgia', 'Gibraltar',\n",
       "       'Guinea', 'Guinea-Bissau', 'Equatorial Guinea', 'Grenada',\n",
       "       'Greenland', 'Guam', 'Isle of Man', 'Kiribati',\n",
       "       'St. Kitts and Nevis', 'Lebanon', 'St. Lucia', 'Liechtenstein',\n",
       "       'St. Martin (French part)', 'Monaco', 'Madagascar',\n",
       "       'Marshall Islands', 'Macedonia, FYR', 'Montenegro',\n",
       "       'Northern Mariana Islands', 'New Caledonia', 'Nigeria', 'Nauru',\n",
       "       'Oman', 'Palau', 'Puerto Rico', 'Korea, Dem. People’s Rep.',\n",
       "       'West Bank and Gaza', 'French Polynesia', 'Solomon Islands',\n",
       "       'San Marino', 'Somalia', 'South Sudan', 'Sao Tome and Principe',\n",
       "       'Suriname', 'Sint Maarten (Dutch part)', 'Seychelles',\n",
       "       'Turks and Caicos Islands', 'Chad', 'Turkmenistan', 'Timor-Leste',\n",
       "       'Tuvalu', 'Uzbekistan', 'St. Vincent and the Grenadines',\n",
       "       'Virgin Islands (U.S.)', 'Vanuatu', 'Samoa', 'Kosovo'],\n",
       "      dtype=object)"
      ]
     },
     "metadata": {},
     "execution_count": 32
    }
   ],
   "source": [
    "# countries without data on education level\n",
    "df_off[df_off[\"% of female pop. age 25+ with no education\"].isnull()]['Country Name'].unique()"
   ]
  },
  {
   "cell_type": "code",
   "execution_count": 33,
   "metadata": {},
   "outputs": [],
   "source": [
    "df_le = pd.read_csv(os.path.join(processed_data, data_le))"
   ]
  },
  {
   "cell_type": "code",
   "execution_count": 34,
   "metadata": {},
   "outputs": [
    {
     "output_type": "execute_result",
     "data": {
      "text/plain": [
       "array(['Life expectancy at birth, total (years)'], dtype=object)"
      ]
     },
     "metadata": {},
     "execution_count": 34
    }
   ],
   "source": [
    "df_le['Indicator Name'].unique()"
   ]
  },
  {
   "cell_type": "code",
   "execution_count": 35,
   "metadata": {},
   "outputs": [],
   "source": [
    "df_le.drop(columns=['Indicator Name', 'Indicator Code'], inplace=True)"
   ]
  },
  {
   "cell_type": "code",
   "execution_count": 36,
   "metadata": {},
   "outputs": [
    {
     "output_type": "execute_result",
     "data": {
      "text/plain": [
       "  Country Name Country Code    1960    1961    1962    1963    1964    1965  \\\n",
       "0        Aruba          ABW  65.662  66.074  66.444  66.787  67.113  67.435   \n",
       "1  Afghanistan          AFG  32.446  32.962  33.471  33.971  34.463  34.948   \n",
       "2       Angola          AGO  37.524  37.811  38.113  38.430  38.760  39.102   \n",
       "3      Albania          ALB  62.283  63.301  64.190  64.914  65.463  65.850   \n",
       "4      Andorra          AND     NaN     NaN     NaN     NaN     NaN     NaN   \n",
       "\n",
       "     1966    1967  ...    2009    2010    2011    2012    2013    2014  \\\n",
       "0  67.762  68.095  ...  74.872  75.017  75.158  75.299  75.441  75.583   \n",
       "1  35.430  35.914  ...  60.484  61.028  61.553  62.054  62.525  62.966   \n",
       "2  39.454  39.813  ...  54.311  55.350  56.330  57.236  58.054  58.776   \n",
       "3  66.110  66.304  ...  76.221  76.562  76.914  77.252  77.554  77.813   \n",
       "4     NaN     NaN  ...     NaN     NaN     NaN     NaN     NaN     NaN   \n",
       "\n",
       "     2015    2016    2017    2018  \n",
       "0  75.725  75.868  76.010  76.152  \n",
       "1  63.377  63.763  64.130  64.486  \n",
       "2  59.398  59.925  60.379  60.782  \n",
       "3  78.025  78.194  78.333  78.458  \n",
       "4     NaN     NaN     NaN     NaN  \n",
       "\n",
       "[5 rows x 61 columns]"
      ],
      "text/html": "<div>\n<style scoped>\n    .dataframe tbody tr th:only-of-type {\n        vertical-align: middle;\n    }\n\n    .dataframe tbody tr th {\n        vertical-align: top;\n    }\n\n    .dataframe thead th {\n        text-align: right;\n    }\n</style>\n<table border=\"1\" class=\"dataframe\">\n  <thead>\n    <tr style=\"text-align: right;\">\n      <th></th>\n      <th>Country Name</th>\n      <th>Country Code</th>\n      <th>1960</th>\n      <th>1961</th>\n      <th>1962</th>\n      <th>1963</th>\n      <th>1964</th>\n      <th>1965</th>\n      <th>1966</th>\n      <th>1967</th>\n      <th>...</th>\n      <th>2009</th>\n      <th>2010</th>\n      <th>2011</th>\n      <th>2012</th>\n      <th>2013</th>\n      <th>2014</th>\n      <th>2015</th>\n      <th>2016</th>\n      <th>2017</th>\n      <th>2018</th>\n    </tr>\n  </thead>\n  <tbody>\n    <tr>\n      <th>0</th>\n      <td>Aruba</td>\n      <td>ABW</td>\n      <td>65.662</td>\n      <td>66.074</td>\n      <td>66.444</td>\n      <td>66.787</td>\n      <td>67.113</td>\n      <td>67.435</td>\n      <td>67.762</td>\n      <td>68.095</td>\n      <td>...</td>\n      <td>74.872</td>\n      <td>75.017</td>\n      <td>75.158</td>\n      <td>75.299</td>\n      <td>75.441</td>\n      <td>75.583</td>\n      <td>75.725</td>\n      <td>75.868</td>\n      <td>76.010</td>\n      <td>76.152</td>\n    </tr>\n    <tr>\n      <th>1</th>\n      <td>Afghanistan</td>\n      <td>AFG</td>\n      <td>32.446</td>\n      <td>32.962</td>\n      <td>33.471</td>\n      <td>33.971</td>\n      <td>34.463</td>\n      <td>34.948</td>\n      <td>35.430</td>\n      <td>35.914</td>\n      <td>...</td>\n      <td>60.484</td>\n      <td>61.028</td>\n      <td>61.553</td>\n      <td>62.054</td>\n      <td>62.525</td>\n      <td>62.966</td>\n      <td>63.377</td>\n      <td>63.763</td>\n      <td>64.130</td>\n      <td>64.486</td>\n    </tr>\n    <tr>\n      <th>2</th>\n      <td>Angola</td>\n      <td>AGO</td>\n      <td>37.524</td>\n      <td>37.811</td>\n      <td>38.113</td>\n      <td>38.430</td>\n      <td>38.760</td>\n      <td>39.102</td>\n      <td>39.454</td>\n      <td>39.813</td>\n      <td>...</td>\n      <td>54.311</td>\n      <td>55.350</td>\n      <td>56.330</td>\n      <td>57.236</td>\n      <td>58.054</td>\n      <td>58.776</td>\n      <td>59.398</td>\n      <td>59.925</td>\n      <td>60.379</td>\n      <td>60.782</td>\n    </tr>\n    <tr>\n      <th>3</th>\n      <td>Albania</td>\n      <td>ALB</td>\n      <td>62.283</td>\n      <td>63.301</td>\n      <td>64.190</td>\n      <td>64.914</td>\n      <td>65.463</td>\n      <td>65.850</td>\n      <td>66.110</td>\n      <td>66.304</td>\n      <td>...</td>\n      <td>76.221</td>\n      <td>76.562</td>\n      <td>76.914</td>\n      <td>77.252</td>\n      <td>77.554</td>\n      <td>77.813</td>\n      <td>78.025</td>\n      <td>78.194</td>\n      <td>78.333</td>\n      <td>78.458</td>\n    </tr>\n    <tr>\n      <th>4</th>\n      <td>Andorra</td>\n      <td>AND</td>\n      <td>NaN</td>\n      <td>NaN</td>\n      <td>NaN</td>\n      <td>NaN</td>\n      <td>NaN</td>\n      <td>NaN</td>\n      <td>NaN</td>\n      <td>NaN</td>\n      <td>...</td>\n      <td>NaN</td>\n      <td>NaN</td>\n      <td>NaN</td>\n      <td>NaN</td>\n      <td>NaN</td>\n      <td>NaN</td>\n      <td>NaN</td>\n      <td>NaN</td>\n      <td>NaN</td>\n      <td>NaN</td>\n    </tr>\n  </tbody>\n</table>\n<p>5 rows × 61 columns</p>\n</div>"
     },
     "metadata": {},
     "execution_count": 36
    }
   ],
   "source": [
    "df_le.head()"
   ]
  },
  {
   "cell_type": "code",
   "execution_count": 37,
   "metadata": {},
   "outputs": [
    {
     "output_type": "stream",
     "name": "stdout",
     "text": [
      "['1970', '1975', '1980', '1985', '1990', '1995', '2000', '2005', '2010', 'Country Name', 'Country Code']\n"
     ]
    }
   ],
   "source": [
    "years = df_off.Year.unique().tolist()\n",
    "years.extend(['Country Name','Country Code'])\n",
    "print(years)"
   ]
  },
  {
   "cell_type": "code",
   "execution_count": 38,
   "metadata": {},
   "outputs": [],
   "source": [
    "df_le = df_le[years]"
   ]
  },
  {
   "cell_type": "code",
   "execution_count": 39,
   "metadata": {},
   "outputs": [],
   "source": [
    "df_le = pd.melt(df_le, \n",
    "        id_vars=['Country Code', 'Country Name'],\n",
    "        value_vars=['1970', '1975', '1980', '1985', '1990', '1995', '2000', '2005', '2010'],\n",
    "        var_name='Year',\n",
    "        value_name='Life Expectancy at birth')"
   ]
  },
  {
   "cell_type": "code",
   "execution_count": 40,
   "metadata": {},
   "outputs": [
    {
     "output_type": "execute_result",
     "data": {
      "text/plain": [
       "  Country Code Country Name  Year  Life Expectancy at birth\n",
       "0          ABW        Aruba  1970                    69.140\n",
       "1          AFG  Afghanistan  1970                    37.409\n",
       "2          AGO       Angola  1970                    40.914\n",
       "3          ALB      Albania  1970                    66.935\n",
       "4          AND      Andorra  1970                       NaN"
      ],
      "text/html": "<div>\n<style scoped>\n    .dataframe tbody tr th:only-of-type {\n        vertical-align: middle;\n    }\n\n    .dataframe tbody tr th {\n        vertical-align: top;\n    }\n\n    .dataframe thead th {\n        text-align: right;\n    }\n</style>\n<table border=\"1\" class=\"dataframe\">\n  <thead>\n    <tr style=\"text-align: right;\">\n      <th></th>\n      <th>Country Code</th>\n      <th>Country Name</th>\n      <th>Year</th>\n      <th>Life Expectancy at birth</th>\n    </tr>\n  </thead>\n  <tbody>\n    <tr>\n      <th>0</th>\n      <td>ABW</td>\n      <td>Aruba</td>\n      <td>1970</td>\n      <td>69.140</td>\n    </tr>\n    <tr>\n      <th>1</th>\n      <td>AFG</td>\n      <td>Afghanistan</td>\n      <td>1970</td>\n      <td>37.409</td>\n    </tr>\n    <tr>\n      <th>2</th>\n      <td>AGO</td>\n      <td>Angola</td>\n      <td>1970</td>\n      <td>40.914</td>\n    </tr>\n    <tr>\n      <th>3</th>\n      <td>ALB</td>\n      <td>Albania</td>\n      <td>1970</td>\n      <td>66.935</td>\n    </tr>\n    <tr>\n      <th>4</th>\n      <td>AND</td>\n      <td>Andorra</td>\n      <td>1970</td>\n      <td>NaN</td>\n    </tr>\n  </tbody>\n</table>\n</div>"
     },
     "metadata": {},
     "execution_count": 40
    }
   ],
   "source": [
    "df_le.head()"
   ]
  },
  {
   "cell_type": "code",
   "execution_count": 41,
   "metadata": {},
   "outputs": [
    {
     "output_type": "execute_result",
     "data": {
      "text/plain": [
       "  Country Code Country Name                     Region          Income Group  \\\n",
       "0          ABW        Aruba  Latin America & Caribbean  High income: nonOECD   \n",
       "1          ABW        Aruba  Latin America & Caribbean  High income: nonOECD   \n",
       "2          ABW        Aruba  Latin America & Caribbean  High income: nonOECD   \n",
       "3          ABW        Aruba  Latin America & Caribbean  High income: nonOECD   \n",
       "4          ABW        Aruba  Latin America & Caribbean  High income: nonOECD   \n",
       "\n",
       "   Year  % of female pop. age 25+ with no education  \\\n",
       "0  1970                                         NaN   \n",
       "1  1975                                         NaN   \n",
       "2  1980                                         NaN   \n",
       "3  1985                                         NaN   \n",
       "4  1990                                         NaN   \n",
       "\n",
       "   % of female pop. age 25+ with primary schooling  \\\n",
       "0                                              NaN   \n",
       "1                                              NaN   \n",
       "2                                              NaN   \n",
       "3                                              NaN   \n",
       "4                                              NaN   \n",
       "\n",
       "   % of female pop. age 25+ with secondary schooling  \\\n",
       "0                                                NaN   \n",
       "1                                                NaN   \n",
       "2                                                NaN   \n",
       "3                                                NaN   \n",
       "4                                                NaN   \n",
       "\n",
       "   % of female pop. age 25+ with tertiary schooling  \\\n",
       "0                                               NaN   \n",
       "1                                               NaN   \n",
       "2                                               NaN   \n",
       "3                                               NaN   \n",
       "4                                               NaN   \n",
       "\n",
       "   % of pop. age 25+ with no education  ...  \\\n",
       "0                                  NaN  ...   \n",
       "1                                  NaN  ...   \n",
       "2                                  NaN  ...   \n",
       "3                                  NaN  ...   \n",
       "4                                  NaN  ...   \n",
       "\n",
       "   Avg. years of primary schooling, age 25+, female  \\\n",
       "0                                               NaN   \n",
       "1                                               NaN   \n",
       "2                                               NaN   \n",
       "3                                               NaN   \n",
       "4                                               NaN   \n",
       "\n",
       "   Avg. years of primary schooling, age 25+, total  \\\n",
       "0                                              NaN   \n",
       "1                                              NaN   \n",
       "2                                              NaN   \n",
       "3                                              NaN   \n",
       "4                                              NaN   \n",
       "\n",
       "   Avg. years of secondary schooling, age 25+, female  \\\n",
       "0                                                NaN    \n",
       "1                                                NaN    \n",
       "2                                                NaN    \n",
       "3                                                NaN    \n",
       "4                                                NaN    \n",
       "\n",
       "   Avg. years of secondary schooling, age 25+, total  \\\n",
       "0                                                NaN   \n",
       "1                                                NaN   \n",
       "2                                                NaN   \n",
       "3                                                NaN   \n",
       "4                                                NaN   \n",
       "\n",
       "   Avg. years of tertiary schooling, age 25+, female  \\\n",
       "0                                                NaN   \n",
       "1                                                NaN   \n",
       "2                                                NaN   \n",
       "3                                                NaN   \n",
       "4                                                NaN   \n",
       "\n",
       "   Avg. years of tertiary schooling, age 25+, total  \\\n",
       "0                                               NaN   \n",
       "1                                               NaN   \n",
       "2                                               NaN   \n",
       "3                                               NaN   \n",
       "4                                               NaN   \n",
       "\n",
       "   Avg. years of total schooling, age 25+, female  \\\n",
       "0                                             NaN   \n",
       "1                                             NaN   \n",
       "2                                             NaN   \n",
       "3                                             NaN   \n",
       "4                                             NaN   \n",
       "\n",
       "   Avg. years of total schooling, age 25+, total  \\\n",
       "0                                            NaN   \n",
       "1                                            NaN   \n",
       "2                                            NaN   \n",
       "3                                            NaN   \n",
       "4                                            NaN   \n",
       "\n",
       "   Pop. in thousands, age 25+, female  Pop. in thousands, age 25+, total  \n",
       "0                                 NaN                                NaN  \n",
       "1                                 NaN                                NaN  \n",
       "2                                 NaN                                NaN  \n",
       "3                                 NaN                                NaN  \n",
       "4                                 NaN                                NaN  \n",
       "\n",
       "[5 rows x 23 columns]"
      ],
      "text/html": "<div>\n<style scoped>\n    .dataframe tbody tr th:only-of-type {\n        vertical-align: middle;\n    }\n\n    .dataframe tbody tr th {\n        vertical-align: top;\n    }\n\n    .dataframe thead th {\n        text-align: right;\n    }\n</style>\n<table border=\"1\" class=\"dataframe\">\n  <thead>\n    <tr style=\"text-align: right;\">\n      <th></th>\n      <th>Country Code</th>\n      <th>Country Name</th>\n      <th>Region</th>\n      <th>Income Group</th>\n      <th>Year</th>\n      <th>% of female pop. age 25+ with no education</th>\n      <th>% of female pop. age 25+ with primary schooling</th>\n      <th>% of female pop. age 25+ with secondary schooling</th>\n      <th>% of female pop. age 25+ with tertiary schooling</th>\n      <th>% of pop. age 25+ with no education</th>\n      <th>...</th>\n      <th>Avg. years of primary schooling, age 25+, female</th>\n      <th>Avg. years of primary schooling, age 25+, total</th>\n      <th>Avg. years of secondary schooling, age 25+, female</th>\n      <th>Avg. years of secondary schooling, age 25+, total</th>\n      <th>Avg. years of tertiary schooling, age 25+, female</th>\n      <th>Avg. years of tertiary schooling, age 25+, total</th>\n      <th>Avg. years of total schooling, age 25+, female</th>\n      <th>Avg. years of total schooling, age 25+, total</th>\n      <th>Pop. in thousands, age 25+, female</th>\n      <th>Pop. in thousands, age 25+, total</th>\n    </tr>\n  </thead>\n  <tbody>\n    <tr>\n      <th>0</th>\n      <td>ABW</td>\n      <td>Aruba</td>\n      <td>Latin America &amp; Caribbean</td>\n      <td>High income: nonOECD</td>\n      <td>1970</td>\n      <td>NaN</td>\n      <td>NaN</td>\n      <td>NaN</td>\n      <td>NaN</td>\n      <td>NaN</td>\n      <td>...</td>\n      <td>NaN</td>\n      <td>NaN</td>\n      <td>NaN</td>\n      <td>NaN</td>\n      <td>NaN</td>\n      <td>NaN</td>\n      <td>NaN</td>\n      <td>NaN</td>\n      <td>NaN</td>\n      <td>NaN</td>\n    </tr>\n    <tr>\n      <th>1</th>\n      <td>ABW</td>\n      <td>Aruba</td>\n      <td>Latin America &amp; Caribbean</td>\n      <td>High income: nonOECD</td>\n      <td>1975</td>\n      <td>NaN</td>\n      <td>NaN</td>\n      <td>NaN</td>\n      <td>NaN</td>\n      <td>NaN</td>\n      <td>...</td>\n      <td>NaN</td>\n      <td>NaN</td>\n      <td>NaN</td>\n      <td>NaN</td>\n      <td>NaN</td>\n      <td>NaN</td>\n      <td>NaN</td>\n      <td>NaN</td>\n      <td>NaN</td>\n      <td>NaN</td>\n    </tr>\n    <tr>\n      <th>2</th>\n      <td>ABW</td>\n      <td>Aruba</td>\n      <td>Latin America &amp; Caribbean</td>\n      <td>High income: nonOECD</td>\n      <td>1980</td>\n      <td>NaN</td>\n      <td>NaN</td>\n      <td>NaN</td>\n      <td>NaN</td>\n      <td>NaN</td>\n      <td>...</td>\n      <td>NaN</td>\n      <td>NaN</td>\n      <td>NaN</td>\n      <td>NaN</td>\n      <td>NaN</td>\n      <td>NaN</td>\n      <td>NaN</td>\n      <td>NaN</td>\n      <td>NaN</td>\n      <td>NaN</td>\n    </tr>\n    <tr>\n      <th>3</th>\n      <td>ABW</td>\n      <td>Aruba</td>\n      <td>Latin America &amp; Caribbean</td>\n      <td>High income: nonOECD</td>\n      <td>1985</td>\n      <td>NaN</td>\n      <td>NaN</td>\n      <td>NaN</td>\n      <td>NaN</td>\n      <td>NaN</td>\n      <td>...</td>\n      <td>NaN</td>\n      <td>NaN</td>\n      <td>NaN</td>\n      <td>NaN</td>\n      <td>NaN</td>\n      <td>NaN</td>\n      <td>NaN</td>\n      <td>NaN</td>\n      <td>NaN</td>\n      <td>NaN</td>\n    </tr>\n    <tr>\n      <th>4</th>\n      <td>ABW</td>\n      <td>Aruba</td>\n      <td>Latin America &amp; Caribbean</td>\n      <td>High income: nonOECD</td>\n      <td>1990</td>\n      <td>NaN</td>\n      <td>NaN</td>\n      <td>NaN</td>\n      <td>NaN</td>\n      <td>NaN</td>\n      <td>...</td>\n      <td>NaN</td>\n      <td>NaN</td>\n      <td>NaN</td>\n      <td>NaN</td>\n      <td>NaN</td>\n      <td>NaN</td>\n      <td>NaN</td>\n      <td>NaN</td>\n      <td>NaN</td>\n      <td>NaN</td>\n    </tr>\n  </tbody>\n</table>\n<p>5 rows × 23 columns</p>\n</div>"
     },
     "metadata": {},
     "execution_count": 41
    }
   ],
   "source": [
    "df_off.head()"
   ]
  },
  {
   "cell_type": "code",
   "execution_count": 42,
   "metadata": {},
   "outputs": [],
   "source": [
    "df_off = df_off.merge(right=df_le, how='left', on=['Country Code','Country Name','Year'])"
   ]
  },
  {
   "cell_type": "code",
   "execution_count": 43,
   "metadata": {},
   "outputs": [],
   "source": [
    "df_off.to_csv(os.path.join(clean_data, 'education_level.csv'), index=False)"
   ]
  },
  {
   "cell_type": "code",
   "execution_count": null,
   "metadata": {},
   "outputs": [],
   "source": []
  }
 ]
}