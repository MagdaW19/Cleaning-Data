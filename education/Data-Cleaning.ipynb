{
 "metadata": {
  "language_info": {
   "codemirror_mode": {
    "name": "ipython",
    "version": 3
   },
   "file_extension": ".py",
   "mimetype": "text/x-python",
   "name": "python",
   "nbconvert_exporter": "python",
   "pygments_lexer": "ipython3",
   "version": "3.9.2"
  },
  "orig_nbformat": 2,
  "kernelspec": {
   "name": "python392jvsc74a57bd0c0f7f1796be8cfcd558c8afe3c9c767ffb7fcd3a2a2c6cc5ff7439286e873c55",
   "display_name": "Python 3.9.2 64-bit ('cleaning': conda)"
  }
 },
 "nbformat": 4,
 "nbformat_minor": 2,
 "cells": [
  {
   "source": [
    "# Data Cleaning and Analysis\n",
    "#### Data regarding education from data.worldbank.org"
   ],
   "cell_type": "markdown",
   "metadata": {}
  },
  {
   "source": [
    "## Imports"
   ],
   "cell_type": "markdown",
   "metadata": {}
  },
  {
   "cell_type": "code",
   "execution_count": 1,
   "metadata": {},
   "outputs": [],
   "source": [
    "# Basic imports\n",
    "\n",
    "import numpy as np \n",
    "import pandas as pd \n",
    "import matplotlib.pyplot as plt \n",
    "import seaborn as sns \n",
    "sns.set()\n",
    "\n",
    "%matplotlib inline"
   ]
  },
  {
   "cell_type": "code",
   "execution_count": 2,
   "metadata": {},
   "outputs": [],
   "source": [
    "# Additional imports\n",
    "import os\n",
    "import education.utils as u"
   ]
  },
  {
   "source": [
    "## Files with data"
   ],
   "cell_type": "markdown",
   "metadata": {}
  },
  {
   "cell_type": "code",
   "execution_count": 3,
   "metadata": {},
   "outputs": [],
   "source": [
    "# Paths to data\n",
    "raw_data = '../data/raw'\n",
    "processed_data = '../data/processed'\n",
    "clean_data = '../data/clean'"
   ]
  },
  {
   "cell_type": "code",
   "execution_count": 4,
   "metadata": {},
   "outputs": [
    {
     "output_type": "execute_result",
     "data": {
      "text/plain": [
       "['countries_info.csv',\n",
       " 'data_explain.csv',\n",
       " 'data_sources.csv',\n",
       " 'data_year.csv',\n",
       " 'ed_data.csv']"
      ]
     },
     "metadata": {},
     "execution_count": 4
    }
   ],
   "source": [
    "# Show all files \n",
    "os.listdir(processed_data)"
   ]
  },
  {
   "cell_type": "code",
   "execution_count": 5,
   "metadata": {},
   "outputs": [],
   "source": [
    "# File paths\n",
    "ed_data = 'ed_data.csv'\n",
    "countries = 'countries_info.csv'\n",
    "data_info = 'data_explain.csv'"
   ]
  },
  {
   "source": [
    "## Data Exploration"
   ],
   "cell_type": "markdown",
   "metadata": {}
  },
  {
   "cell_type": "code",
   "execution_count": 6,
   "metadata": {},
   "outputs": [],
   "source": [
    "ed_df = pd.read_csv(os.path.join(processed_data, ed_data))"
   ]
  },
  {
   "cell_type": "code",
   "execution_count": 7,
   "metadata": {},
   "outputs": [
    {
     "output_type": "execute_result",
     "data": {
      "text/plain": [
       "  Country Name Country Code  \\\n",
       "0   Arab World          ARB   \n",
       "1   Arab World          ARB   \n",
       "2   Arab World          ARB   \n",
       "3   Arab World          ARB   \n",
       "4   Arab World          ARB   \n",
       "\n",
       "                                      Indicator Name  Indicator Code  \\\n",
       "0  Adjusted net enrolment rate, lower secondary, ...      UIS.NERA.2   \n",
       "1  Adjusted net enrolment rate, lower secondary, ...    UIS.NERA.2.F   \n",
       "2  Adjusted net enrolment rate, lower secondary, ...  UIS.NERA.2.GPI   \n",
       "3  Adjusted net enrolment rate, lower secondary, ...    UIS.NERA.2.M   \n",
       "4  Adjusted net enrolment rate, primary, both sex...     SE.PRM.TENR   \n",
       "\n",
       "        1970       1971       1972       1973       1974      1975  ...  2055  \\\n",
       "0        NaN        NaN        NaN        NaN        NaN       NaN  ...   NaN   \n",
       "1        NaN        NaN        NaN        NaN        NaN       NaN  ...   NaN   \n",
       "2        NaN        NaN        NaN        NaN        NaN       NaN  ...   NaN   \n",
       "3        NaN        NaN        NaN        NaN        NaN       NaN  ...   NaN   \n",
       "4  54.822121  54.894138  56.209438  57.267109  57.991138  59.36554  ...   NaN   \n",
       "\n",
       "   2060  2065  2070  2075  2080  2085  2090  2095  2100  \n",
       "0   NaN   NaN   NaN   NaN   NaN   NaN   NaN   NaN   NaN  \n",
       "1   NaN   NaN   NaN   NaN   NaN   NaN   NaN   NaN   NaN  \n",
       "2   NaN   NaN   NaN   NaN   NaN   NaN   NaN   NaN   NaN  \n",
       "3   NaN   NaN   NaN   NaN   NaN   NaN   NaN   NaN   NaN  \n",
       "4   NaN   NaN   NaN   NaN   NaN   NaN   NaN   NaN   NaN  \n",
       "\n",
       "[5 rows x 69 columns]"
      ],
      "text/html": "<div>\n<style scoped>\n    .dataframe tbody tr th:only-of-type {\n        vertical-align: middle;\n    }\n\n    .dataframe tbody tr th {\n        vertical-align: top;\n    }\n\n    .dataframe thead th {\n        text-align: right;\n    }\n</style>\n<table border=\"1\" class=\"dataframe\">\n  <thead>\n    <tr style=\"text-align: right;\">\n      <th></th>\n      <th>Country Name</th>\n      <th>Country Code</th>\n      <th>Indicator Name</th>\n      <th>Indicator Code</th>\n      <th>1970</th>\n      <th>1971</th>\n      <th>1972</th>\n      <th>1973</th>\n      <th>1974</th>\n      <th>1975</th>\n      <th>...</th>\n      <th>2055</th>\n      <th>2060</th>\n      <th>2065</th>\n      <th>2070</th>\n      <th>2075</th>\n      <th>2080</th>\n      <th>2085</th>\n      <th>2090</th>\n      <th>2095</th>\n      <th>2100</th>\n    </tr>\n  </thead>\n  <tbody>\n    <tr>\n      <th>0</th>\n      <td>Arab World</td>\n      <td>ARB</td>\n      <td>Adjusted net enrolment rate, lower secondary, ...</td>\n      <td>UIS.NERA.2</td>\n      <td>NaN</td>\n      <td>NaN</td>\n      <td>NaN</td>\n      <td>NaN</td>\n      <td>NaN</td>\n      <td>NaN</td>\n      <td>...</td>\n      <td>NaN</td>\n      <td>NaN</td>\n      <td>NaN</td>\n      <td>NaN</td>\n      <td>NaN</td>\n      <td>NaN</td>\n      <td>NaN</td>\n      <td>NaN</td>\n      <td>NaN</td>\n      <td>NaN</td>\n    </tr>\n    <tr>\n      <th>1</th>\n      <td>Arab World</td>\n      <td>ARB</td>\n      <td>Adjusted net enrolment rate, lower secondary, ...</td>\n      <td>UIS.NERA.2.F</td>\n      <td>NaN</td>\n      <td>NaN</td>\n      <td>NaN</td>\n      <td>NaN</td>\n      <td>NaN</td>\n      <td>NaN</td>\n      <td>...</td>\n      <td>NaN</td>\n      <td>NaN</td>\n      <td>NaN</td>\n      <td>NaN</td>\n      <td>NaN</td>\n      <td>NaN</td>\n      <td>NaN</td>\n      <td>NaN</td>\n      <td>NaN</td>\n      <td>NaN</td>\n    </tr>\n    <tr>\n      <th>2</th>\n      <td>Arab World</td>\n      <td>ARB</td>\n      <td>Adjusted net enrolment rate, lower secondary, ...</td>\n      <td>UIS.NERA.2.GPI</td>\n      <td>NaN</td>\n      <td>NaN</td>\n      <td>NaN</td>\n      <td>NaN</td>\n      <td>NaN</td>\n      <td>NaN</td>\n      <td>...</td>\n      <td>NaN</td>\n      <td>NaN</td>\n      <td>NaN</td>\n      <td>NaN</td>\n      <td>NaN</td>\n      <td>NaN</td>\n      <td>NaN</td>\n      <td>NaN</td>\n      <td>NaN</td>\n      <td>NaN</td>\n    </tr>\n    <tr>\n      <th>3</th>\n      <td>Arab World</td>\n      <td>ARB</td>\n      <td>Adjusted net enrolment rate, lower secondary, ...</td>\n      <td>UIS.NERA.2.M</td>\n      <td>NaN</td>\n      <td>NaN</td>\n      <td>NaN</td>\n      <td>NaN</td>\n      <td>NaN</td>\n      <td>NaN</td>\n      <td>...</td>\n      <td>NaN</td>\n      <td>NaN</td>\n      <td>NaN</td>\n      <td>NaN</td>\n      <td>NaN</td>\n      <td>NaN</td>\n      <td>NaN</td>\n      <td>NaN</td>\n      <td>NaN</td>\n      <td>NaN</td>\n    </tr>\n    <tr>\n      <th>4</th>\n      <td>Arab World</td>\n      <td>ARB</td>\n      <td>Adjusted net enrolment rate, primary, both sex...</td>\n      <td>SE.PRM.TENR</td>\n      <td>54.822121</td>\n      <td>54.894138</td>\n      <td>56.209438</td>\n      <td>57.267109</td>\n      <td>57.991138</td>\n      <td>59.36554</td>\n      <td>...</td>\n      <td>NaN</td>\n      <td>NaN</td>\n      <td>NaN</td>\n      <td>NaN</td>\n      <td>NaN</td>\n      <td>NaN</td>\n      <td>NaN</td>\n      <td>NaN</td>\n      <td>NaN</td>\n      <td>NaN</td>\n    </tr>\n  </tbody>\n</table>\n<p>5 rows × 69 columns</p>\n</div>"
     },
     "metadata": {},
     "execution_count": 7
    }
   ],
   "source": [
    "ed_df.head()"
   ]
  },
  {
   "cell_type": "code",
   "execution_count": 13,
   "metadata": {},
   "outputs": [],
   "source": [
    "indicators = list(ed_df['Indicator Name'].unique())"
   ]
  },
  {
   "cell_type": "code",
   "execution_count": 15,
   "metadata": {},
   "outputs": [
    {
     "output_type": "stream",
     "name": "stdout",
     "text": [
      "Barro-Lee: Average years of primary schooling, age 15+, female\nBarro-Lee: Average years of primary schooling, age 15+, total\nBarro-Lee: Average years of primary schooling, age 15-19, female\nBarro-Lee: Average years of primary schooling, age 15-19, total\nBarro-Lee: Average years of primary schooling, age 20-24, female\nBarro-Lee: Average years of primary schooling, age 20-24, total\nBarro-Lee: Average years of primary schooling, age 25+, female\nBarro-Lee: Average years of primary schooling, age 25+, total\nBarro-Lee: Average years of primary schooling, age 25-29, female\nBarro-Lee: Average years of primary schooling, age 25-29, total\nBarro-Lee: Average years of primary schooling, age 30-34, female\nBarro-Lee: Average years of primary schooling, age 30-34, total\nBarro-Lee: Average years of primary schooling, age 35-39, female\nBarro-Lee: Average years of primary schooling, age 35-39, total\nBarro-Lee: Average years of primary schooling, age 40-44, female\nBarro-Lee: Average years of primary schooling, age 40-44, total\nBarro-Lee: Average years of primary schooling, age 45-49, female\nBarro-Lee: Average years of primary schooling, age 45-49, total\nBarro-Lee: Average years of primary schooling, age 50-54, female\nBarro-Lee: Average years of primary schooling, age 50-54, total\nBarro-Lee: Average years of primary schooling, age 55-59, female\nBarro-Lee: Average years of primary schooling, age 55-59, total\nBarro-Lee: Average years of primary schooling, age 60-64, female\nBarro-Lee: Average years of primary schooling, age 60-64, total\nBarro-Lee: Average years of primary schooling, age 65-69, female\nBarro-Lee: Average years of primary schooling, age 65-69, total\nBarro-Lee: Average years of primary schooling, age 70-74, female\nBarro-Lee: Average years of primary schooling, age 70-74, total\nBarro-Lee: Average years of primary schooling, age 75+, female\nBarro-Lee: Average years of primary schooling, age 75+, total\nBarro-Lee: Average years of secondary schooling, age 15+, female\nBarro-Lee: Average years of secondary schooling, age 15+, total\nBarro-Lee: Average years of secondary schooling, age 15-19, female\nBarro-Lee: Average years of secondary schooling, age 15-19, total\nBarro-Lee: Average years of secondary schooling, age 20-24, female\nBarro-Lee: Average years of secondary schooling, age 20-24, total\nBarro-Lee: Average years of secondary schooling, age 25+, female\nBarro-Lee: Average years of secondary schooling, age 25+, total\nBarro-Lee: Average years of secondary schooling, age 25-29, female\nBarro-Lee: Average years of secondary schooling, age 25-29, total\nBarro-Lee: Average years of secondary schooling, age 30-34, female\nBarro-Lee: Average years of secondary schooling, age 30-34, total\nBarro-Lee: Average years of secondary schooling, age 35-39, female\nBarro-Lee: Average years of secondary schooling, age 35-39, total\nBarro-Lee: Average years of secondary schooling, age 40-44, female\nBarro-Lee: Average years of secondary schooling, age 40-44, total\nBarro-Lee: Average years of secondary schooling, age 45-49, female\nBarro-Lee: Average years of secondary schooling, age 45-49, total\nBarro-Lee: Average years of secondary schooling, age 50-54, female\nBarro-Lee: Average years of secondary schooling, age 50-54, total\nBarro-Lee: Average years of secondary schooling, age 55-59, female\nBarro-Lee: Average years of secondary schooling, age 55-59, total\nBarro-Lee: Average years of secondary schooling, age 60-64, female\nBarro-Lee: Average years of secondary schooling, age 60-64, total\nBarro-Lee: Average years of secondary schooling, age 65-69, female\nBarro-Lee: Average years of secondary schooling, age 65-69, total\nBarro-Lee: Average years of secondary schooling, age 70-74, female\nBarro-Lee: Average years of secondary schooling, age 70-74, total\nBarro-Lee: Average years of secondary schooling, age 75+, female\nBarro-Lee: Average years of secondary schooling, age 75+, total\nBarro-Lee: Average years of tertiary schooling, age 15+, female\nBarro-Lee: Average years of tertiary schooling, age 15+, total\nBarro-Lee: Average years of tertiary schooling, age 15-19, female\nBarro-Lee: Average years of tertiary schooling, age 15-19, total\nBarro-Lee: Average years of tertiary schooling, age 20-24, female\nBarro-Lee: Average years of tertiary schooling, age 20-24, total\nBarro-Lee: Average years of tertiary schooling, age 25+, female\nBarro-Lee: Average years of tertiary schooling, age 25+, total\nBarro-Lee: Average years of tertiary schooling, age 25-29, female\nBarro-Lee: Average years of tertiary schooling, age 25-29, total\nBarro-Lee: Average years of tertiary schooling, age 30-34, female\nBarro-Lee: Average years of tertiary schooling, age 30-34, total\nBarro-Lee: Average years of tertiary schooling, age 35-39, female\nBarro-Lee: Average years of tertiary schooling, age 35-39, total\nBarro-Lee: Average years of tertiary schooling, age 40-44, female\nBarro-Lee: Average years of tertiary schooling, age 40-44, total\nBarro-Lee: Average years of tertiary schooling, age 45-49, female\nBarro-Lee: Average years of tertiary schooling, age 45-49, total\nBarro-Lee: Average years of tertiary schooling, age 50-54, female\nBarro-Lee: Average years of tertiary schooling, age 50-54, total\nBarro-Lee: Average years of tertiary schooling, age 55-59, female\nBarro-Lee: Average years of tertiary schooling, age 55-59, total\nBarro-Lee: Average years of tertiary schooling, age 60-64, female\nBarro-Lee: Average years of tertiary schooling, age 60-64, total\nBarro-Lee: Average years of tertiary schooling, age 65-69, female\nBarro-Lee: Average years of tertiary schooling, age 65-69, total\nBarro-Lee: Average years of tertiary schooling, age 70-74, female\nBarro-Lee: Average years of tertiary schooling, age 70-74, total\nBarro-Lee: Average years of tertiary schooling, age 75+, female\nBarro-Lee: Average years of tertiary schooling, age 75+, total\nBarro-Lee: Average years of total schooling, age 15+, female\nBarro-Lee: Average years of total schooling, age 15+, total\nBarro-Lee: Average years of total schooling, age 15-19, female\nBarro-Lee: Average years of total schooling, age 15-19, total\nBarro-Lee: Average years of total schooling, age 20-24, female\nBarro-Lee: Average years of total schooling, age 20-24, total\nBarro-Lee: Average years of total schooling, age 25+, female\nBarro-Lee: Average years of total schooling, age 25+, total\nBarro-Lee: Average years of total schooling, age 25-29, female\nBarro-Lee: Average years of total schooling, age 25-29, total\nBarro-Lee: Average years of total schooling, age 30-34, female\nBarro-Lee: Average years of total schooling, age 30-34, total\nBarro-Lee: Average years of total schooling, age 35-39, female\nBarro-Lee: Average years of total schooling, age 35-39, total\nBarro-Lee: Average years of total schooling, age 40-44, female\nBarro-Lee: Average years of total schooling, age 40-44, total\nBarro-Lee: Average years of total schooling, age 45-49, female\nBarro-Lee: Average years of total schooling, age 45-49, total\nBarro-Lee: Average years of total schooling, age 50-54, female\nBarro-Lee: Average years of total schooling, age 50-54, total\nBarro-Lee: Average years of total schooling, age 55-59, female\nBarro-Lee: Average years of total schooling, age 55-59, total\nBarro-Lee: Average years of total schooling, age 60-64, female\nBarro-Lee: Average years of total schooling, age 60-64, total\nBarro-Lee: Average years of total schooling, age 65-69, female\nBarro-Lee: Average years of total schooling, age 65-69, total\nBarro-Lee: Average years of total schooling, age 70-74, female\nBarro-Lee: Average years of total schooling, age 70-74, total\nBarro-Lee: Average years of total schooling, age 75+, female\nBarro-Lee: Average years of total schooling, age 75+, total\nBarro-Lee: Percentage of female population age 15+ with no education\nBarro-Lee: Percentage of female population age 15+ with primary schooling. Completed Primary\nBarro-Lee: Percentage of female population age 15+ with primary schooling. Total (Incomplete and Completed Primary)\nBarro-Lee: Percentage of female population age 15+ with secondary schooling. Completed Secondary\nBarro-Lee: Percentage of female population age 15+ with secondary schooling. Total (Incomplete and Completed Secondary)\nBarro-Lee: Percentage of female population age 15+ with tertiary schooling. Completed Tertiary\nBarro-Lee: Percentage of female population age 15+ with tertiary schooling. Total (Incomplete and Completed Tertiary)\nBarro-Lee: Percentage of female population age 15-19 with no education\nBarro-Lee: Percentage of female population age 15-19 with primary schooling. Completed Primary\nBarro-Lee: Percentage of female population age 15-19 with primary schooling. Total (Incomplete and Completed Primary)\nBarro-Lee: Percentage of female population age 15-19 with secondary schooling. Completed Secondary\nBarro-Lee: Percentage of female population age 15-19 with secondary schooling. Total (Incomplete and Completed Secondary)\nBarro-Lee: Percentage of female population age 15-19 with tertiary schooling. Completed Tertiary\nBarro-Lee: Percentage of female population age 15-19 with tertiary schooling. Total (Incomplete and Completed Tertiary)\nBarro-Lee: Percentage of female population age 20-24 with no education\nBarro-Lee: Percentage of female population age 20-24 with primary schooling. Completed Primary\nBarro-Lee: Percentage of female population age 20-24 with primary schooling. Total (Incomplete and Completed Primary)\nBarro-Lee: Percentage of female population age 20-24 with secondary schooling. Completed Secondary\nBarro-Lee: Percentage of female population age 20-24 with secondary schooling. Total (Incomplete and Completed Secondary)\nBarro-Lee: Percentage of female population age 20-24 with tertiary schooling. Completed Tertiary\nBarro-Lee: Percentage of female population age 20-24 with tertiary schooling. Total (Incomplete and Completed Tertiary)\nBarro-Lee: Percentage of female population age 25+ with no education\nBarro-Lee: Percentage of female population age 25+ with primary schooling. Completed Primary\nBarro-Lee: Percentage of female population age 25+ with primary schooling. Total (Incomplete and Completed Primary)\nBarro-Lee: Percentage of female population age 25+ with secondary schooling. Completed Secondary\nBarro-Lee: Percentage of female population age 25+ with secondary schooling. Total (Incomplete and Completed Secondary)\nBarro-Lee: Percentage of female population age 25+ with tertiary schooling. Completed Tertiary\nBarro-Lee: Percentage of female population age 25+ with tertiary schooling. Total (Incomplete and Completed Tertiary)\nBarro-Lee: Percentage of female population age 25-29 with no education\nBarro-Lee: Percentage of female population age 25-29 with primary schooling. Completed Primary\nBarro-Lee: Percentage of female population age 25-29 with primary schooling. Total (Incomplete and Completed Primary)\nBarro-Lee: Percentage of female population age 25-29 with secondary schooling. Completed Secondary\nBarro-Lee: Percentage of female population age 25-29 with secondary schooling. Total (Incomplete and Completed Secondary)\nBarro-Lee: Percentage of female population age 25-29 with tertiary schooling. Completed Tertiary\nBarro-Lee: Percentage of female population age 25-29 with tertiary schooling. Total (Incomplete and Completed Tertiary)\nBarro-Lee: Percentage of female population age 30-34 with no education\nBarro-Lee: Percentage of female population age 30-34 with primary schooling. Completed Primary\nBarro-Lee: Percentage of female population age 30-34 with primary schooling. Total (Incomplete and Completed Primary)\nBarro-Lee: Percentage of female population age 30-34 with secondary schooling. Completed Secondary\nBarro-Lee: Percentage of female population age 30-34 with secondary schooling. Total (Incomplete and Completed Secondary)\nBarro-Lee: Percentage of female population age 30-34 with tertiary schooling. Completed Tertiary\nBarro-Lee: Percentage of female population age 30-34 with tertiary schooling. Total (Incomplete and Completed Tertiary)\nBarro-Lee: Percentage of female population age 35-39 with no education\nBarro-Lee: Percentage of female population age 35-39 with primary schooling. Completed Primary\nBarro-Lee: Percentage of female population age 35-39 with primary schooling. Total (Incomplete and Completed Primary)\nBarro-Lee: Percentage of female population age 35-39 with secondary schooling. Completed Secondary\nBarro-Lee: Percentage of female population age 35-39 with secondary schooling. Total (Incomplete and Completed Secondary)\nBarro-Lee: Percentage of female population age 35-39 with tertiary schooling. Completed Tertiary\nBarro-Lee: Percentage of female population age 35-39 with tertiary schooling. Total (Incomplete and Completed Tertiary)\nBarro-Lee: Percentage of female population age 40-44 with no education\nBarro-Lee: Percentage of female population age 40-44 with primary schooling. Completed Primary\nBarro-Lee: Percentage of female population age 40-44 with primary schooling. Total (Incomplete and Completed Primary)\nBarro-Lee: Percentage of female population age 40-44 with secondary schooling. Completed Secondary\nBarro-Lee: Percentage of female population age 40-44 with secondary schooling. Total (Incomplete and Completed Secondary)\nBarro-Lee: Percentage of female population age 40-44 with tertiary schooling. Completed Tertiary\nBarro-Lee: Percentage of female population age 40-44 with tertiary schooling. Total (Incomplete and Completed Tertiary)\nBarro-Lee: Percentage of female population age 45-49 with no education\nBarro-Lee: Percentage of female population age 45-49 with primary schooling. Completed Primary\nBarro-Lee: Percentage of female population age 45-49 with primary schooling. Total (Incomplete and Completed Primary)\nBarro-Lee: Percentage of female population age 45-49 with secondary schooling. Completed Secondary\nBarro-Lee: Percentage of female population age 45-49 with secondary schooling. Total (Incomplete and Completed Secondary)\nBarro-Lee: Percentage of female population age 45-49 with tertiary schooling. Completed Tertiary\nBarro-Lee: Percentage of female population age 45-49 with tertiary schooling. Total (Incomplete and Completed Tertiary)\nBarro-Lee: Percentage of female population age 50-54 with no education\nBarro-Lee: Percentage of female population age 50-54 with primary schooling. Completed Primary\nBarro-Lee: Percentage of female population age 50-54 with primary schooling. Total (Incomplete and Completed Primary)\nBarro-Lee: Percentage of female population age 50-54 with secondary schooling. Completed Secondary\nBarro-Lee: Percentage of female population age 50-54 with secondary schooling. Total (Incomplete and Completed Secondary)\nBarro-Lee: Percentage of female population age 50-54 with tertiary schooling. Completed Tertiary\nBarro-Lee: Percentage of female population age 50-54 with tertiary schooling. Total (Incomplete and Completed Tertiary)\nBarro-Lee: Percentage of female population age 55-59 with no education\nBarro-Lee: Percentage of female population age 55-59 with primary schooling. Completed Primary\nBarro-Lee: Percentage of female population age 55-59 with primary schooling. Total (Incomplete and Completed Primary)\nBarro-Lee: Percentage of female population age 55-59 with secondary schooling. Completed Secondary\nBarro-Lee: Percentage of female population age 55-59 with secondary schooling. Total (Incomplete and Completed Secondary)\nBarro-Lee: Percentage of female population age 55-59 with tertiary schooling. Completed Tertiary\nBarro-Lee: Percentage of female population age 55-59 with tertiary schooling. Total (Incomplete and Completed Tertiary)\nBarro-Lee: Percentage of female population age 60-64 with no education\nBarro-Lee: Percentage of female population age 60-64 with primary schooling. Completed Primary\nBarro-Lee: Percentage of female population age 60-64 with primary schooling. Total (Incomplete and Completed Primary)\nBarro-Lee: Percentage of female population age 60-64 with secondary schooling. Completed Secondary\nBarro-Lee: Percentage of female population age 60-64 with secondary schooling. Total (Incomplete and Completed Secondary)\nBarro-Lee: Percentage of female population age 60-64 with tertiary schooling. Completed Tertiary\nBarro-Lee: Percentage of female population age 60-64 with tertiary schooling. Total (Incomplete and Completed Tertiary)\nBarro-Lee: Percentage of female population age 65-69 with no education\nBarro-Lee: Percentage of female population age 65-69 with primary schooling. Completed Primary\nBarro-Lee: Percentage of female population age 65-69 with primary schooling. Total (Incomplete and Completed Primary)\nBarro-Lee: Percentage of female population age 65-69 with secondary schooling. Completed Secondary\nBarro-Lee: Percentage of female population age 65-69 with secondary schooling. Total (Incomplete and Completed Secondary)\nBarro-Lee: Percentage of female population age 65-69 with tertiary schooling. Completed Tertiary\nBarro-Lee: Percentage of female population age 65-69 with tertiary schooling. Total (Incomplete and Completed Tertiary)\nBarro-Lee: Percentage of female population age 70-74 with no education\nBarro-Lee: Percentage of female population age 70-74 with primary schooling. Completed Primary\nBarro-Lee: Percentage of female population age 70-74 with primary schooling. Total (Incomplete and Completed Primary)\nBarro-Lee: Percentage of female population age 70-74 with secondary schooling. Completed Secondary\nBarro-Lee: Percentage of female population age 70-74 with secondary schooling. Total (Incomplete and Completed Secondary)\nBarro-Lee: Percentage of female population age 70-74 with tertiary schooling. Completed Tertiary\nBarro-Lee: Percentage of female population age 70-74 with tertiary schooling. Total (Incomplete and Completed Tertiary)\nBarro-Lee: Percentage of female population age 75+ with no education\nBarro-Lee: Percentage of female population age 75+ with primary schooling. Completed Primary\nBarro-Lee: Percentage of female population age 75+ with primary schooling. Total (Incomplete and Completed Primary)\nBarro-Lee: Percentage of female population age 75+ with secondary schooling. Completed Secondary\nBarro-Lee: Percentage of female population age 75+ with secondary schooling. Total (Incomplete and Completed Secondary)\nBarro-Lee: Percentage of female population age 75+ with tertiary schooling. Completed Tertiary\nBarro-Lee: Percentage of female population age 75+ with tertiary schooling. Total (Incomplete and Completed Tertiary)\nBarro-Lee: Percentage of population age 15+ with no education\nBarro-Lee: Percentage of population age 15+ with primary schooling. Completed Primary\nBarro-Lee: Percentage of population age 15+ with primary schooling. Total (Incomplete and Completed Primary)\nBarro-Lee: Percentage of population age 15+ with secondary schooling. Completed Secondary\nBarro-Lee: Percentage of population age 15+ with secondary schooling. Total (Incomplete and Completed Secondary)\nBarro-Lee: Percentage of population age 15+ with tertiary schooling. Completed Tertiary\nBarro-Lee: Percentage of population age 15+ with tertiary schooling. Total (Incomplete and Completed Tertiary)\nBarro-Lee: Percentage of population age 15-19 with no education\nBarro-Lee: Percentage of population age 15-19 with primary schooling. Completed Primary\nBarro-Lee: Percentage of population age 15-19 with primary schooling. Total (Incomplete and Completed Primary)\nBarro-Lee: Percentage of population age 15-19 with secondary schooling. Completed Secondary\nBarro-Lee: Percentage of population age 15-19 with secondary schooling. Total (Incomplete and Completed Secondary)\nBarro-Lee: Percentage of population age 15-19 with tertiary schooling. Completed Tertiary\nBarro-Lee: Percentage of population age 15-19 with tertiary schooling. Total (Incomplete and Completed Tertiary)\nBarro-Lee: Percentage of population age 20-24 with no education\nBarro-Lee: Percentage of population age 20-24 with primary schooling. Completed Primary\nBarro-Lee: Percentage of population age 20-24 with primary schooling. Total (Incomplete and Completed Primary)\nBarro-Lee: Percentage of population age 20-24 with secondary schooling. Completed Secondary\nBarro-Lee: Percentage of population age 20-24 with secondary schooling. Total (Incomplete and Completed Secondary)\nBarro-Lee: Percentage of population age 20-24 with tertiary schooling. Completed Tertiary\nBarro-Lee: Percentage of population age 20-24 with tertiary schooling. Total (Incomplete and Completed Tertiary)\nBarro-Lee: Percentage of population age 25+ with no education\nBarro-Lee: Percentage of population age 25+ with primary schooling. Completed Primary\nBarro-Lee: Percentage of population age 25+ with primary schooling. Total (Incomplete and Completed Primary)\nBarro-Lee: Percentage of population age 25+ with secondary schooling. Completed Secondary\nBarro-Lee: Percentage of population age 25+ with secondary schooling. Total (Incomplete and Completed Secondary)\nBarro-Lee: Percentage of population age 25+ with tertiary schooling. Completed Tertiary\nBarro-Lee: Percentage of population age 25+ with tertiary schooling. Total (Incomplete and Completed Tertiary)\nBarro-Lee: Percentage of population age 25-29 with no education\nBarro-Lee: Percentage of population age 25-29 with primary schooling. Completed Primary\nBarro-Lee: Percentage of population age 25-29 with primary schooling. Total (Incomplete and Completed Primary)\nBarro-Lee: Percentage of population age 25-29 with secondary schooling. Completed Secondary\nBarro-Lee: Percentage of population age 25-29 with secondary schooling. Total (Incomplete and Completed Secondary)\nBarro-Lee: Percentage of population age 25-29 with tertiary schooling. Completed Tertiary\nBarro-Lee: Percentage of population age 25-29 with tertiary schooling. Total (Incomplete and Completed Tertiary)\nBarro-Lee: Percentage of population age 30-34 with no education\nBarro-Lee: Percentage of population age 30-34 with primary schooling. Completed Primary\nBarro-Lee: Percentage of population age 30-34 with primary schooling. Total (Incomplete and Completed Primary)\nBarro-Lee: Percentage of population age 30-34 with secondary schooling. Completed Secondary\nBarro-Lee: Percentage of population age 30-34 with secondary schooling. Total (Incomplete and Completed Secondary)\nBarro-Lee: Percentage of population age 30-34 with tertiary schooling. Completed Tertiary\nBarro-Lee: Percentage of population age 30-34 with tertiary schooling. Total (Incomplete and Completed Tertiary)\nBarro-Lee: Percentage of population age 35-39 with no education\nBarro-Lee: Percentage of population age 35-39 with primary schooling. Completed Primary\nBarro-Lee: Percentage of population age 35-39 with primary schooling. Total (Incomplete and Completed Primary)\nBarro-Lee: Percentage of population age 35-39 with secondary schooling. Completed Secondary\nBarro-Lee: Percentage of population age 35-39 with secondary schooling. Total (Incomplete and Completed Secondary)\nBarro-Lee: Percentage of population age 35-39 with tertiary schooling. Completed Tertiary\nBarro-Lee: Percentage of population age 35-39 with tertiary schooling. Total (Incomplete and Completed Tertiary)\nBarro-Lee: Percentage of population age 40-44 with no education\nBarro-Lee: Percentage of population age 40-44 with primary schooling. Completed Primary\nBarro-Lee: Percentage of population age 40-44 with primary schooling. Total (Incomplete and Completed Primary)\nBarro-Lee: Percentage of population age 40-44 with secondary schooling. Completed Secondary\nBarro-Lee: Percentage of population age 40-44 with secondary schooling. Total (Incomplete and Completed Secondary)\nBarro-Lee: Percentage of population age 40-44 with tertiary schooling. Completed Tertiary\nBarro-Lee: Percentage of population age 40-44 with tertiary schooling. Total (Incomplete and Completed Tertiary)\nBarro-Lee: Percentage of population age 45-49 with no education\nBarro-Lee: Percentage of population age 45-49 with primary schooling. Completed Primary\nBarro-Lee: Percentage of population age 45-49 with primary schooling. Total (Incomplete and Completed Primary)\nBarro-Lee: Percentage of population age 45-49 with secondary schooling. Completed Secondary\nBarro-Lee: Percentage of population age 45-49 with secondary schooling. Total (Incomplete and Completed Secondary)\nBarro-Lee: Percentage of population age 45-49 with tertiary schooling. Completed Tertiary\nBarro-Lee: Percentage of population age 45-49 with tertiary schooling. Total (Incomplete and Completed Tertiary)\nBarro-Lee: Percentage of population age 50-54 with no education\nBarro-Lee: Percentage of population age 50-54 with primary schooling. Completed Primary\nBarro-Lee: Percentage of population age 50-54 with primary schooling. Total (Incomplete and Completed Primary)\nBarro-Lee: Percentage of population age 50-54 with secondary schooling. Completed Secondary\nBarro-Lee: Percentage of population age 50-54 with secondary schooling. Total (Incomplete and Completed Secondary)\nBarro-Lee: Percentage of population age 50-54 with tertiary schooling. Completed Tertiary\nBarro-Lee: Percentage of population age 50-54 with tertiary schooling. Total (Incomplete and Completed Tertiary)\nBarro-Lee: Percentage of population age 55-59 with no education\nBarro-Lee: Percentage of population age 55-59 with primary schooling. Completed Primary\nBarro-Lee: Percentage of population age 55-59 with primary schooling. Total (Incomplete and Completed Primary)\nBarro-Lee: Percentage of population age 55-59 with secondary schooling. Completed Secondary\nBarro-Lee: Percentage of population age 55-59 with secondary schooling. Total (Incomplete and Completed Secondary)\nBarro-Lee: Percentage of population age 55-59 with tertiary schooling. Completed Tertiary\nBarro-Lee: Percentage of population age 55-59 with tertiary schooling. Total (Incomplete and Completed Tertiary)\nBarro-Lee: Percentage of population age 60-64 with no education\nBarro-Lee: Percentage of population age 60-64 with primary schooling. Completed Primary\nBarro-Lee: Percentage of population age 60-64 with primary schooling. Total (Incomplete and Completed Primary)\nBarro-Lee: Percentage of population age 60-64 with secondary schooling. Completed Secondary\nBarro-Lee: Percentage of population age 60-64 with secondary schooling. Total (Incomplete and Completed Secondary)\nBarro-Lee: Percentage of population age 60-64 with tertiary schooling. Completed Tertiary\nBarro-Lee: Percentage of population age 60-64 with tertiary schooling. Total (Incomplete and Completed Tertiary)\nBarro-Lee: Percentage of population age 65-69 with no education\nBarro-Lee: Percentage of population age 65-69 with primary schooling. Completed Primary\nBarro-Lee: Percentage of population age 65-69 with primary schooling. Total (Incomplete and Completed Primary)\nBarro-Lee: Percentage of population age 65-69 with secondary schooling. Completed Secondary\nBarro-Lee: Percentage of population age 65-69 with secondary schooling. Total (Incomplete and Completed Secondary)\nBarro-Lee: Percentage of population age 65-69 with tertiary schooling. Completed Tertiary\nBarro-Lee: Percentage of population age 65-69 with tertiary schooling. Total (Incomplete and Completed Tertiary)\nBarro-Lee: Percentage of population age 70-74 with no education\nBarro-Lee: Percentage of population age 70-74 with primary schooling. Completed Primary\nBarro-Lee: Percentage of population age 70-74 with primary schooling. Total (Incomplete and Completed Primary)\nBarro-Lee: Percentage of population age 70-74 with secondary schooling. Completed Secondary\nBarro-Lee: Percentage of population age 70-74 with secondary schooling. Total (Incomplete and Completed Secondary)\nBarro-Lee: Percentage of population age 70-74 with tertiary schooling. Completed Tertiary\nBarro-Lee: Percentage of population age 70-74 with tertiary schooling. Total (Incomplete and Completed Tertiary)\nBarro-Lee: Percentage of population age 75+ with no education\nBarro-Lee: Percentage of population age 75+ with primary schooling. Completed Primary\nBarro-Lee: Percentage of population age 75+ with primary schooling. Total (Incomplete and Completed Primary)\nBarro-Lee: Percentage of population age 75+ with secondary schooling. Completed Secondary\nBarro-Lee: Percentage of population age 75+ with secondary schooling. Total (Incomplete and Completed Secondary)\nBarro-Lee: Percentage of population age 75+ with tertiary schooling. Completed Tertiary\nBarro-Lee: Percentage of population age 75+ with tertiary schooling. Total (Incomplete and Completed Tertiary)\nBarro-Lee: Population in thousands, age 15+, female\nBarro-Lee: Population in thousands, age 15+, total\nBarro-Lee: Population in thousands, age 15-19, female\nBarro-Lee: Population in thousands, age 15-19, total\nBarro-Lee: Population in thousands, age 20-24, female\nBarro-Lee: Population in thousands, age 20-24, total\nBarro-Lee: Population in thousands, age 25+, female\nBarro-Lee: Population in thousands, age 25+, total\nBarro-Lee: Population in thousands, age 25-29, female\nBarro-Lee: Population in thousands, age 25-29, total\nBarro-Lee: Population in thousands, age 30-34, female\nBarro-Lee: Population in thousands, age 30-34, total\nBarro-Lee: Population in thousands, age 35-39, female\nBarro-Lee: Population in thousands, age 35-39, total\nBarro-Lee: Population in thousands, age 40-44, female\nBarro-Lee: Population in thousands, age 40-44, total\nBarro-Lee: Population in thousands, age 45-49, female\nBarro-Lee: Population in thousands, age 45-49, total\nBarro-Lee: Population in thousands, age 50-54, female\nBarro-Lee: Population in thousands, age 50-54, total\nBarro-Lee: Population in thousands, age 55-59, female\nBarro-Lee: Population in thousands, age 55-59, total\nBarro-Lee: Population in thousands, age 60-64, female\nBarro-Lee: Population in thousands, age 60-64, total\nBarro-Lee: Population in thousands, age 65-69, female\nBarro-Lee: Population in thousands, age 65-69, total\nBarro-Lee: Population in thousands, age 70-74, female\nBarro-Lee: Population in thousands, age 70-74, total\nBarro-Lee: Population in thousands, age 75+, female\nBarro-Lee: Population in thousands, age 75+, total\n"
     ]
    }
   ],
   "source": [
    "for i in indicators:\n",
    "    if 'Barro-Lee' in i:\n",
    "        print(i)"
   ]
  },
  {
   "cell_type": "code",
   "execution_count": 16,
   "metadata": {},
   "outputs": [],
   "source": [
    "off_ed = [\n",
    "'Barro-Lee: Percentage of female population age 25+ with no education',\n",
    "'Barro-Lee: Percentage of female population age 25+ with primary schooling. Completed Primary',\n",
    "'Barro-Lee: Percentage of female population age 25+ with secondary schooling. Completed Secondary',\n",
    "'Barro-Lee: Percentage of female population age 25+ with tertiary schooling. Completed Tertiary',\n",
    "'Barro-Lee: Percentage of population age 25+ with no education',\n",
    "'Barro-Lee: Percentage of population age 25+ with primary schooling. Completed Primary',\n",
    "'Barro-Lee: Percentage of population age 25+ with secondary schooling. Completed Secondary',\n",
    "'Barro-Lee: Percentage of population age 25+ with tertiary schooling. Completed Tertiary',\n",
    "]"
   ]
  },
  {
   "cell_type": "code",
   "execution_count": 27,
   "metadata": {},
   "outputs": [
    {
     "output_type": "stream",
     "name": "stderr",
     "text": [
      "<ipython-input-27-e5bb6fac5533>:2: SettingWithCopyWarning: \nA value is trying to be set on a copy of a slice from a DataFrame\n\nSee the caveats in the documentation: https://pandas.pydata.org/pandas-docs/stable/user_guide/indexing.html#returning-a-view-versus-a-copy\n  df_off_reg.dropna(axis=1, how='all', inplace=True)\n"
     ]
    }
   ],
   "source": [
    "df_off_reg = ed_df[ed_df['Indicator Name'].isin(off_ed)]\n",
    "df_off_reg.dropna(axis=1, how='all', inplace=True)"
   ]
  },
  {
   "cell_type": "code",
   "execution_count": 28,
   "metadata": {},
   "outputs": [
    {
     "output_type": "stream",
     "name": "stdout",
     "text": [
      "<class 'pandas.core.frame.DataFrame'>\nInt64Index: 1936 entries, 290 to 883665\nData columns (total 13 columns):\n #   Column          Non-Null Count  Dtype  \n---  ------          --------------  -----  \n 0   Country Name    1936 non-null   object \n 1   Country Code    1936 non-null   object \n 2   Indicator Name  1936 non-null   object \n 3   Indicator Code  1936 non-null   object \n 4   1970            1152 non-null   float64\n 5   1975            1152 non-null   float64\n 6   1980            1152 non-null   float64\n 7   1985            1152 non-null   float64\n 8   1990            1152 non-null   float64\n 9   1995            1152 non-null   float64\n 10  2000            1152 non-null   float64\n 11  2005            1152 non-null   float64\n 12  2010            1152 non-null   float64\ndtypes: float64(9), object(4)\nmemory usage: 211.8+ KB\n"
     ]
    }
   ],
   "source": [
    "df_off_reg.info()"
   ]
  },
  {
   "cell_type": "code",
   "execution_count": 29,
   "metadata": {},
   "outputs": [],
   "source": [
    "df_c = pd.read_csv(os.path.join(processed_data, countries))"
   ]
  },
  {
   "cell_type": "code",
   "execution_count": 30,
   "metadata": {},
   "outputs": [
    {
     "output_type": "execute_result",
     "data": {
      "text/plain": [
       "    Country Code    Short Name                      Region  \\\n",
       "0            ABW         Aruba   Latin America & Caribbean   \n",
       "1            AFG   Afghanistan                  South Asia   \n",
       "2            AGO        Angola          Sub-Saharan Africa   \n",
       "3            ALB       Albania       Europe & Central Asia   \n",
       "4            AND       Andorra       Europe & Central Asia   \n",
       "..           ...           ...                         ...   \n",
       "236          XKX        Kosovo       Europe & Central Asia   \n",
       "237          YEM         Yemen  Middle East & North Africa   \n",
       "238          ZAF  South Africa          Sub-Saharan Africa   \n",
       "239          ZMB        Zambia          Sub-Saharan Africa   \n",
       "240          ZWE      Zimbabwe          Sub-Saharan Africa   \n",
       "\n",
       "             Income Group  POP_census_year  Is_Country  \n",
       "0    High income: nonOECD           2010.0        True  \n",
       "1              Low income           1979.0        True  \n",
       "2     Upper middle income           1970.0        True  \n",
       "3     Upper middle income           2011.0        True  \n",
       "4    High income: nonOECD           2011.0        True  \n",
       "..                    ...              ...         ...  \n",
       "236   Lower middle income           2011.0        True  \n",
       "237   Lower middle income           2004.0        True  \n",
       "238   Upper middle income           2011.0        True  \n",
       "239   Lower middle income           2010.0        True  \n",
       "240            Low income           2012.0        True  \n",
       "\n",
       "[241 rows x 6 columns]"
      ],
      "text/html": "<div>\n<style scoped>\n    .dataframe tbody tr th:only-of-type {\n        vertical-align: middle;\n    }\n\n    .dataframe tbody tr th {\n        vertical-align: top;\n    }\n\n    .dataframe thead th {\n        text-align: right;\n    }\n</style>\n<table border=\"1\" class=\"dataframe\">\n  <thead>\n    <tr style=\"text-align: right;\">\n      <th></th>\n      <th>Country Code</th>\n      <th>Short Name</th>\n      <th>Region</th>\n      <th>Income Group</th>\n      <th>POP_census_year</th>\n      <th>Is_Country</th>\n    </tr>\n  </thead>\n  <tbody>\n    <tr>\n      <th>0</th>\n      <td>ABW</td>\n      <td>Aruba</td>\n      <td>Latin America &amp; Caribbean</td>\n      <td>High income: nonOECD</td>\n      <td>2010.0</td>\n      <td>True</td>\n    </tr>\n    <tr>\n      <th>1</th>\n      <td>AFG</td>\n      <td>Afghanistan</td>\n      <td>South Asia</td>\n      <td>Low income</td>\n      <td>1979.0</td>\n      <td>True</td>\n    </tr>\n    <tr>\n      <th>2</th>\n      <td>AGO</td>\n      <td>Angola</td>\n      <td>Sub-Saharan Africa</td>\n      <td>Upper middle income</td>\n      <td>1970.0</td>\n      <td>True</td>\n    </tr>\n    <tr>\n      <th>3</th>\n      <td>ALB</td>\n      <td>Albania</td>\n      <td>Europe &amp; Central Asia</td>\n      <td>Upper middle income</td>\n      <td>2011.0</td>\n      <td>True</td>\n    </tr>\n    <tr>\n      <th>4</th>\n      <td>AND</td>\n      <td>Andorra</td>\n      <td>Europe &amp; Central Asia</td>\n      <td>High income: nonOECD</td>\n      <td>2011.0</td>\n      <td>True</td>\n    </tr>\n    <tr>\n      <th>...</th>\n      <td>...</td>\n      <td>...</td>\n      <td>...</td>\n      <td>...</td>\n      <td>...</td>\n      <td>...</td>\n    </tr>\n    <tr>\n      <th>236</th>\n      <td>XKX</td>\n      <td>Kosovo</td>\n      <td>Europe &amp; Central Asia</td>\n      <td>Lower middle income</td>\n      <td>2011.0</td>\n      <td>True</td>\n    </tr>\n    <tr>\n      <th>237</th>\n      <td>YEM</td>\n      <td>Yemen</td>\n      <td>Middle East &amp; North Africa</td>\n      <td>Lower middle income</td>\n      <td>2004.0</td>\n      <td>True</td>\n    </tr>\n    <tr>\n      <th>238</th>\n      <td>ZAF</td>\n      <td>South Africa</td>\n      <td>Sub-Saharan Africa</td>\n      <td>Upper middle income</td>\n      <td>2011.0</td>\n      <td>True</td>\n    </tr>\n    <tr>\n      <th>239</th>\n      <td>ZMB</td>\n      <td>Zambia</td>\n      <td>Sub-Saharan Africa</td>\n      <td>Lower middle income</td>\n      <td>2010.0</td>\n      <td>True</td>\n    </tr>\n    <tr>\n      <th>240</th>\n      <td>ZWE</td>\n      <td>Zimbabwe</td>\n      <td>Sub-Saharan Africa</td>\n      <td>Low income</td>\n      <td>2012.0</td>\n      <td>True</td>\n    </tr>\n  </tbody>\n</table>\n<p>241 rows × 6 columns</p>\n</div>"
     },
     "metadata": {},
     "execution_count": 30
    }
   ],
   "source": [
    "df_c"
   ]
  },
  {
   "cell_type": "code",
   "execution_count": 35,
   "metadata": {},
   "outputs": [],
   "source": [
    "df_c = df_c[['Country Code','Region','Income Group', 'Is_Country']]"
   ]
  },
  {
   "cell_type": "code",
   "execution_count": 44,
   "metadata": {},
   "outputs": [],
   "source": [
    "df_off = df_off_reg.join(df_c.set_index('Country Code'), on='Country Code', how='left')"
   ]
  },
  {
   "cell_type": "code",
   "execution_count": 45,
   "metadata": {},
   "outputs": [
    {
     "output_type": "stream",
     "name": "stdout",
     "text": [
      "<class 'pandas.core.frame.DataFrame'>\nInt64Index: 1936 entries, 290 to 883665\nData columns (total 16 columns):\n #   Column          Non-Null Count  Dtype  \n---  ------          --------------  -----  \n 0   Country Name    1936 non-null   object \n 1   Country Code    1936 non-null   object \n 2   Indicator Name  1936 non-null   object \n 3   Indicator Code  1936 non-null   object \n 4   1970            1152 non-null   float64\n 5   1975            1152 non-null   float64\n 6   1980            1152 non-null   float64\n 7   1985            1152 non-null   float64\n 8   1990            1152 non-null   float64\n 9   1995            1152 non-null   float64\n 10  2000            1152 non-null   float64\n 11  2005            1152 non-null   float64\n 12  2010            1152 non-null   float64\n 13  Region          1712 non-null   object \n 14  Income Group    1712 non-null   object \n 15  Is_Country      1928 non-null   object \ndtypes: float64(9), object(7)\nmemory usage: 321.7+ KB\n"
     ]
    }
   ],
   "source": [
    "df_off.info()"
   ]
  },
  {
   "cell_type": "code",
   "execution_count": 47,
   "metadata": {},
   "outputs": [],
   "source": [
    "df_off['Is_Country'].fillna(value=False, inplace=True)"
   ]
  },
  {
   "cell_type": "code",
   "execution_count": 49,
   "metadata": {},
   "outputs": [
    {
     "output_type": "stream",
     "name": "stdout",
     "text": [
      "<class 'pandas.core.frame.DataFrame'>\nInt64Index: 208 entries, 290 to 190980\nData columns (total 16 columns):\n #   Column          Non-Null Count  Dtype  \n---  ------          --------------  -----  \n 0   Country Name    208 non-null    object \n 1   Country Code    208 non-null    object \n 2   Indicator Name  208 non-null    object \n 3   Indicator Code  208 non-null    object \n 4   1970            0 non-null      float64\n 5   1975            0 non-null      float64\n 6   1980            0 non-null      float64\n 7   1985            0 non-null      float64\n 8   1990            0 non-null      float64\n 9   1995            0 non-null      float64\n 10  2000            0 non-null      float64\n 11  2005            0 non-null      float64\n 12  2010            0 non-null      float64\n 13  Region          0 non-null      object \n 14  Income Group    0 non-null      object \n 15  Is_Country      208 non-null    bool   \ndtypes: bool(1), float64(9), object(6)\nmemory usage: 26.2+ KB\n"
     ]
    }
   ],
   "source": [
    "df_off[~df_off['Is_Country']].info()"
   ]
  },
  {
   "cell_type": "code",
   "execution_count": 50,
   "metadata": {},
   "outputs": [],
   "source": [
    "df_off[df_off['Is_Country']].to_csv(os.path.join(clean_data, 'education_level.csv'))"
   ]
  },
  {
   "cell_type": "code",
   "execution_count": null,
   "metadata": {},
   "outputs": [],
   "source": []
  }
 ]
}